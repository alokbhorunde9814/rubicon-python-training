{
 "cells": [
  {
   "cell_type": "code",
   "execution_count": 2,
   "id": "66cb3046-0a52-401b-a916-17998e5a8c21",
   "metadata": {},
   "outputs": [
    {
     "name": "stdout",
     "output_type": "stream",
     "text": [
      "I am the Grandfather.\n",
      "I am the Father, son of Grandfather.\n",
      "I am the Uncle, son of Grandfather.\n",
      "I am the Son, child of Father.\n"
     ]
    }
   ],
   "source": [
    "class Grandfather:\n",
    "    def grandfather(s):\n",
    "        print(\"I am the Grandfather.\")\n",
    "\n",
    "class Father(Grandfather):\n",
    "    def father(s):\n",
    "        print(\"I am the Father, son of Grandfather.\")\n",
    "\n",
    "class Uncle(Grandfather):\n",
    "    def uncle(s):\n",
    "        print(\"I am the Uncle, son of Grandfather.\")\n",
    "\n",
    "class Son(Father):\n",
    "    def son(s):\n",
    "        print(\"I am the Son, child of Father.\")\n",
    "\n",
    "grandfather = Grandfather()\n",
    "father = Father()\n",
    "uncle = Uncle()\n",
    "son = Son() \n",
    "\n",
    "grandfather.grandfather()\n",
    "father.father()\n",
    "uncle.uncle()\n",
    "son.son()\n"
   ]
  },
  {
   "cell_type": "code",
   "execution_count": null,
   "id": "feb345b3-d624-44fc-ae1c-cc6056381d05",
   "metadata": {},
   "outputs": [],
   "source": []
  },
  {
   "cell_type": "code",
   "execution_count": 3,
   "id": "0e39fd76-e20e-4ea5-84cc-b74bf9139703",
   "metadata": {},
   "outputs": [
    {
     "name": "stdout",
     "output_type": "stream",
     "text": [
      "Sum: 10\n",
      "Sum: 30\n",
      "Sum: 60\n"
     ]
    }
   ],
   "source": [
    "class Calculate:\n",
    "    def sum(self, a=0, b=0, c=0):\n",
    "        return a + b + c\n",
    "\n",
    "\n",
    "char = Calculate()\n",
    "\n",
    "\n",
    "\n",
    "print(\"Sum:\", char.sum(10))          # a=10, b=0, c=0\n",
    "print(\"Sum:\", char.sum(10, 20))       # a=10, b=20, c=0\n",
    "print(\"Sum:\", char.sum(10, 20, 30))   # a=10, b=20, c=30\n",
    "\n"
   ]
  },
  {
   "cell_type": "code",
   "execution_count": 4,
   "id": "f9bc3341-e68e-452c-9428-7789ae479ba9",
   "metadata": {},
   "outputs": [
    {
     "name": "stdin",
     "output_type": "stream",
     "text": [
      "Enter a number:  23\n"
     ]
    },
    {
     "name": "stdout",
     "output_type": "stream",
     "text": [
      "Odd\n"
     ]
    }
   ],
   "source": [
    "print(\"Even\" if int(input(\"Enter a number: \")) % 2 == 0 else \"Odd\")\n"
   ]
  },
  {
   "cell_type": "code",
   "execution_count": null,
   "id": "84e3b8b8-50a1-4b70-8533-ce9595d9f480",
   "metadata": {},
   "outputs": [],
   "source": [
    "class Parent:\n",
    "    def show(self):\n",
    "        print(\"This is the parent class.\")\n",
    "\n",
    "class Child(Parent):\n",
    "    def show(self):  \n",
    "        print(\"This is the child class.\")\n",
    "\n",
    "\n",
    "p = Parent()\n",
    "c = Child()\n",
    "\n",
    "p.show()  \n",
    "c.show()\n"
   ]
  },
  {
   "cell_type": "code",
   "execution_count": 6,
   "id": "3d79c116-9dfa-4d3c-9162-3df4be5781ff",
   "metadata": {},
   "outputs": [
    {
     "name": "stdout",
     "output_type": "stream",
     "text": [
      "A\n",
      "B\n"
     ]
    }
   ],
   "source": [
    "class A:\n",
    "    def aaa(self):\n",
    "        print(\"A\")\n",
    "\n",
    "class B(A):\n",
    "    def aaa(self):  # Overwriting the same function\n",
    "        print(\"B\")\n",
    "\n",
    "x = A()\n",
    "x.aaa()  \n",
    "\n",
    "y = B()\n",
    "y.aaa()  \n"
   ]
  },
  {
   "cell_type": "code",
   "execution_count": 7,
   "id": "b5c0c749-4cf9-4a64-b782-089f92d012f1",
   "metadata": {},
   "outputs": [
    {
     "name": "stdout",
     "output_type": "stream",
     "text": [
      "A\n",
      "B\n"
     ]
    }
   ],
   "source": [
    "class A:\n",
    "    def m(self):\n",
    "        print(\"A\")\n",
    "\n",
    "class B(A):\n",
    "    def m(self):  # Overriding the parent method\n",
    "        print(\"B\")\n",
    "\n",
    "a = A()\n",
    "a.m()  # Output: A\n",
    "\n",
    "b = B()\n",
    "b.m()  # Output: B (Overridden method)\n"
   ]
  },
  {
   "cell_type": "code",
   "execution_count": null,
   "id": "a2d4b965-79e0-4af5-9dfd-31dda8e1d4aa",
   "metadata": {},
   "outputs": [],
   "source": []
  }
 ],
 "metadata": {
  "kernelspec": {
   "display_name": "Python 3 (ipykernel)",
   "language": "python",
   "name": "python3"
  },
  "language_info": {
   "codemirror_mode": {
    "name": "ipython",
    "version": 3
   },
   "file_extension": ".py",
   "mimetype": "text/x-python",
   "name": "python",
   "nbconvert_exporter": "python",
   "pygments_lexer": "ipython3",
   "version": "3.13.0"
  }
 },
 "nbformat": 4,
 "nbformat_minor": 5
}
