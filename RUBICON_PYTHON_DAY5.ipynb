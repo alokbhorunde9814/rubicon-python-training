{
 "cells": [
  {
   "cell_type": "code",
   "execution_count": 1,
   "id": "3162511e-5854-40d5-86a9-e75b5ee9ef13",
   "metadata": {},
   "outputs": [
    {
     "name": "stdout",
     "output_type": "stream",
     "text": [
      "0\n",
      "1\n"
     ]
    }
   ],
   "source": [
    "def func():  \n",
    "    for i in range(11): \n",
    "        yield i * i \n",
    "\n",
    "xyz = func()\n",
    "\n",
    "print(next(xyz))  \n",
    "print(next(xyz))  \n"
   ]
  },
  {
   "cell_type": "code",
   "execution_count": 4,
   "id": "100332c0-79a3-462c-b790-e872941ed09c",
   "metadata": {},
   "outputs": [
    {
     "name": "stdin",
     "output_type": "stream",
     "text": [
      "Enter a number:  23\n"
     ]
    },
    {
     "name": "stdout",
     "output_type": "stream",
     "text": [
      "23 is a prime number\n"
     ]
    }
   ],
   "source": [
    "n = int(input(\"Enter a number: \"))\n",
    "\n",
    "if n <= 1:\n",
    "    print(n, \"is not a prime number\")\n",
    "else:\n",
    "    is_prime = True\n",
    "    for i in range(2, n):\n",
    "        if n % i == 0:\n",
    "            is_prime = False\n",
    "            break\n",
    "\n",
    "    if is_prime:\n",
    "        print(n, \"is a prime number\")\n",
    "    else:\n",
    "        print(n, \"is not a prime number\")\n"
   ]
  },
  {
   "cell_type": "code",
   "execution_count": 9,
   "id": "8469e6dd-69b0-4373-a165-3f343dc77cf9",
   "metadata": {},
   "outputs": [
    {
     "name": "stdout",
     "output_type": "stream",
     "text": [
      "12 is not a prime number\n",
      "23 is a prime number\n",
      "21 is not a prime number\n",
      "25 is not a prime number\n",
      "77 is not a prime number\n"
     ]
    }
   ],
   "source": [
    "def xyz(num):\n",
    "    for n in num:\n",
    "        if n <= 1:\n",
    "            yield f\"{n} is not a prime number\"\n",
    "        else:\n",
    "            is_prime = True\n",
    "            for i in range(2, n):\n",
    "                if n % i == 0:\n",
    "                    is_prime = False\n",
    "                    break\n",
    "            if is_prime:\n",
    "                yield f\"{n} is a prime number\"\n",
    "            else:\n",
    "                yield f\"{n} is not a prime number\"\n",
    "\n",
    "numbers = [12, 23, 21, 25, 77, 65, 45, 65, 34, 45, 89, 87]\n",
    "gen = xyz(numbers)\n",
    "print(next(gen))\n",
    "print(next(gen))\n",
    "print(next(gen))\n",
    "print(next(gen))\n",
    "print(next(gen))\n"
   ]
  },
  {
   "cell_type": "code",
   "execution_count": null,
   "id": "766f3e86-65d8-412e-8774-9a08d3474963",
   "metadata": {},
   "outputs": [],
   "source": []
  },
  {
   "cell_type": "code",
   "execution_count": 11,
   "id": "947533cb-3ef6-4a04-bac0-da52c0376ce9",
   "metadata": {},
   "outputs": [
    {
     "name": "stdout",
     "output_type": "stream",
     "text": [
      "12 is not a prime number\n",
      "23 is a prime number\n",
      "21 is not a prime number\n",
      "25 is not a prime number\n",
      "77 is not a prime number\n"
     ]
    }
   ],
   "source": [
    "def xyz(nums):\n",
    "    for n in nums:\n",
    "        is_prime = True\n",
    "        for i in range(2, n):\n",
    "            if n % i == 0:\n",
    "                is_prime = False\n",
    "                break\n",
    "        if is_prime:\n",
    "            yield f\"{n} is a prime number\"\n",
    "        else:\n",
    "            yield f\"{n} is not a prime number\"\n",
    "\n",
    "numbers = [12, 23, 21, 25, 77, 65, 45, 65, 34, 45, 89, 87]\n",
    "gen = xyz(numbers)\n",
    "print(next(gen))\n",
    "print(next(gen))\n",
    "print(next(gen))\n",
    "print(next(gen))\n",
    "print(next(gen))\n",
    "\n"
   ]
  },
  {
   "cell_type": "code",
   "execution_count": 12,
   "id": "99c0d65f-890f-493c-ad31-ec53b92f8f25",
   "metadata": {},
   "outputs": [
    {
     "name": "stdout",
     "output_type": "stream",
     "text": [
      "12 is even\n",
      "23 is odd\n",
      "21 is odd\n",
      "25 is odd\n",
      "77 is odd\n"
     ]
    }
   ],
   "source": [
    "def xyz(nums):\n",
    "    for n in nums:\n",
    "        if n % 2 == 0:\n",
    "            yield f\"{n} is even\"\n",
    "        else:\n",
    "            yield f\"{n} is odd\"\n",
    "\n",
    "numbers = [12, 23, 21, 25, 77, 65, 45, 65, 34, 45, 89, 87]\n",
    "gen = xyz(numbers)\n",
    "print(next(gen))\n",
    "print(next(gen))\n",
    "print(next(gen))\n",
    "print(next(gen))\n",
    "print(next(gen))\n"
   ]
  },
  {
   "cell_type": "code",
   "execution_count": 14,
   "id": "f5d6609a-ab58-4c6b-a850-05636d98d5a7",
   "metadata": {},
   "outputs": [
    {
     "name": "stdout",
     "output_type": "stream",
     "text": [
      "45 is not a prime number\n",
      "56 is not a prime number\n",
      "77 is not a prime number\n",
      "21 is not a prime number\n",
      "22 is not a prime number\n",
      "23 is a prime number\n",
      "34 is not a prime number\n",
      "25 is not a prime number\n"
     ]
    }
   ],
   "source": [
    "\n",
    "def xyz(nums):\n",
    "    for n in nums:\n",
    "        is_prime = True\n",
    "        for i in range(2, n):\n",
    "            if n % i == 0:\n",
    "                is_prime = False\n",
    "                break\n",
    "        if is_prime:\n",
    "            yield f\"{n} is a prime number\"\n",
    "        else:\n",
    "            yield f\"{n} is not a prime number\"\n",
    "\n",
    "numbers = [45, 56, 77, 21, 22, 23, 34, 25]\n",
    "gen = xyz(numbers)\n",
    "\n",
    "for prime in gen:\n",
    "  print(prime)\n"
   ]
  },
  {
   "cell_type": "markdown",
   "id": "b196d4ef-1b30-4b3e-a71a-76dd163c226f",
   "metadata": {},
   "source": [
    "### FILE HANDLING"
   ]
  },
  {
   "cell_type": "code",
   "execution_count": 16,
   "id": "9816fd68-77b7-4a88-9d74-d11b09c4146f",
   "metadata": {},
   "outputs": [],
   "source": [
    "with open(\"sample.txt\", \"w\") as file:\n",
    "    file.write(\"Hello, this is a sample file.\\n\")\n",
    "    file.write(\"File handling in Python is easy!\\n\")\n"
   ]
  },
  {
   "cell_type": "code",
   "execution_count": 17,
   "id": "4d1feebf-7c48-4f92-adda-f7f6888408db",
   "metadata": {},
   "outputs": [
    {
     "name": "stdout",
     "output_type": "stream",
     "text": [
      "Hello, this is a sample file.\n",
      "File handling in Python is easy!\n",
      "\n"
     ]
    }
   ],
   "source": [
    "with open(\"sample.txt\", \"r\") as file:\n",
    "    content = file.read()\n",
    "    print(content)\n"
   ]
  },
  {
   "cell_type": "code",
   "execution_count": 18,
   "id": "3a4e43da-bd00-4121-96e3-d93f4726923e",
   "metadata": {},
   "outputs": [
    {
     "name": "stdout",
     "output_type": "stream",
     "text": [
      "File written successfully.\n"
     ]
    }
   ],
   "source": [
    "file = open(\"sample.txt\", \"w\")\n",
    "file.write(\"Hello, this is a sample file.\\n\")\n",
    "file.write(\"File handling in Python is easy!\\n\")\n",
    "file.close()\n",
    "print(\"File written successfully.\")\n"
   ]
  },
  {
   "cell_type": "code",
   "execution_count": 19,
   "id": "49973e59-f974-4272-b0c5-6f0a85cd9e4c",
   "metadata": {},
   "outputs": [
    {
     "name": "stdout",
     "output_type": "stream",
     "text": [
      "Hello, this is a sample file.\n",
      "File handling in Python is easy!\n",
      "\n"
     ]
    }
   ],
   "source": [
    "file = open(\"sample.txt\", \"r\")\n",
    "content = file.read()\n",
    "print(content)\n",
    "file.close()\n"
   ]
  },
  {
   "cell_type": "code",
   "execution_count": 24,
   "id": "f485241f-4ee9-44de-a20b-9d1f8b822dc0",
   "metadata": {},
   "outputs": [
    {
     "name": "stdout",
     "output_type": "stream",
     "text": [
      "New content appended successfully.\n"
     ]
    }
   ],
   "source": [
    "file = open(\"sample.txt\", \"a\")  # Open file in append mode\n",
    "file.write(\"Appending new content.\\n\")\n",
    "file.write(\"Old content remains unchanged.\\n\")\n",
    "file.close()  # Close the file\n",
    "print(\"New content appended successfully.\")\n"
   ]
  },
  {
   "cell_type": "code",
   "execution_count": 27,
   "id": "601834e8-e455-422d-a886-421bbfe0759e",
   "metadata": {},
   "outputs": [
    {
     "name": "stdout",
     "output_type": "stream",
     "text": [
      "Hello, this is a sample file.\n",
      "File handling in Python is easy!\n",
      "Appending new content.\n",
      "Old content remains unchanged.\n",
      "Appending new content.\n",
      "Old content remains unchanged.\n",
      "\n"
     ]
    }
   ],
   "source": [
    "file = open(\"sample.txt\", \"r\")  # Open file in read mode\n",
    "content = file.read()  # Read the file\n",
    "print(content)  # Print the updated content\n",
    "file.close()  # Close the file\n"
   ]
  },
  {
   "cell_type": "code",
   "execution_count": 22,
   "id": "bf88aceb-fca7-47bc-9789-70478aa19dd4",
   "metadata": {},
   "outputs": [
    {
     "name": "stdout",
     "output_type": "stream",
     "text": [
      "Hello, this is a sample file.\n",
      "File handling in Python is easy!\n",
      "Appending new content.\n",
      "Old content remains unchanged.\n",
      "\n"
     ]
    }
   ],
   "source": [
    "with open(\"sample.txt\", \"r\") as file:\n",
    "    content = file.read()\n",
    "print(content)\n"
   ]
  },
  {
   "cell_type": "code",
   "execution_count": null,
   "id": "d65e98b9-6f2d-46f8-8f3a-777b7c42ecd3",
   "metadata": {},
   "outputs": [],
   "source": [
    "with open(\"sample.txt\", \"r\") as file:\n",
    "    content = file.read()\n",
    "print(content)\n"
   ]
  },
  {
   "cell_type": "code",
   "execution_count": 30,
   "id": "dd9f9d05-0499-45fd-866e-8246c842a725",
   "metadata": {},
   "outputs": [
    {
     "name": "stdout",
     "output_type": "stream",
     "text": [
      "Error: File does not exist.\n"
     ]
    }
   ],
   "source": [
    "#create file , if exist then show error handle in try and error \n",
    "\n",
    "try:\n",
    "    file = open(\"sam.txt\", \"r\")\n",
    "    file.close()\n",
    "except FileNotFoundError:\n",
    "    print(\"Error: File does not exist.\")\n"
   ]
  },
  {
   "cell_type": "code",
   "execution_count": 31,
   "id": "c1b75b9d-ba7b-459e-bb1c-cc274a243186",
   "metadata": {},
   "outputs": [
    {
     "name": "stdout",
     "output_type": "stream",
     "text": [
      "File already exists.\n"
     ]
    }
   ],
   "source": [
    "try:\n",
    "    file = open(\"samn.txt\", \"r\")\n",
    "    file.close()\n",
    "    print(\"File already exists.\")\n",
    "except FileNotFoundError:                       \n",
    "    with open(\"sample.txt\", \"w\") as file:                    \n",
    "        file.write(\"This is a newly created file.\")                                   \n",
    "    print(\"File did not exist, so it has been created.\")                                   \n",
    "\n"
   ]
  },
  {
   "cell_type": "code",
   "execution_count": 1,
   "id": "5216415a-d857-46a9-9f9f-bc35dc834199",
   "metadata": {},
   "outputs": [
    {
     "name": "stdout",
     "output_type": "stream",
     "text": [
      "File did not exist, so it has been created.\n"
     ]
    }
   ],
   "source": [
    " try:\n",
    "    file = open(\"samn.txt\", \"r\")\n",
    "    file.close()\n",
    "    print(\"File already exists.\")\n",
    "except FileNotFoundError:                       \n",
    "    with open(\"sample.txt\", \"w\") as file:                    \n",
    "        file.write(\"This is a newly created file.\")                                   \n",
    "    print(\"File did not exist, so it has been created.\")                                   \n",
    "\n"
   ]
  },
  {
   "cell_type": "code",
   "execution_count": 3,
   "id": "3adbc35d-523d-4aa4-b629-edd5a032e0c2",
   "metadata": {},
   "outputs": [
    {
     "name": "stdout",
     "output_type": "stream",
     "text": [
      "File did not exist, so it has been created.\n"
     ]
    }
   ],
   "source": [
    "try:\n",
    "    with open(\"samn.txt\", \"r\") as file:\n",
    "        print(\"File already exists.\")\n",
    "        \n",
    "except FileNotFoundError:\n",
    "    with open(\"sample.txt\", \"w\") as file:\n",
    "        file.write(\"This is a newly created file.\")\n",
    "    print(\"File did not exist, so it has been created.\")\n"
   ]
  },
  {
   "cell_type": "code",
   "execution_count": 4,
   "id": "f693e4f6-0390-4399-b712-bd7c23fe9597",
   "metadata": {},
   "outputs": [
    {
     "name": "stdout",
     "output_type": "stream",
     "text": [
      "File deleted successfully.\n"
     ]
    }
   ],
   "source": [
    "import os\n",
    "\n",
    "filename = \"sample.txt\"\n",
    "\n",
    "if os.path.exists(filename):\n",
    "    os.remove(filename)\n",
    "    print(\"File deleted successfully.\")\n",
    "else:\n",
    "    print(\"Error: File does not exist.\")\n",
    "\n"
   ]
  },
  {
   "cell_type": "code",
   "execution_count": 5,
   "id": "1a126cad-4f7b-4151-b9a6-560ded59a0d4",
   "metadata": {},
   "outputs": [
    {
     "name": "stdout",
     "output_type": "stream",
     "text": [
      "Loving and Caring\n",
      "Strong and Protective\n",
      "Smart and Playful\n"
     ]
    }
   ],
   "source": [
    "class Mother:\n",
    "    def mother_traits(self):\n",
    "        print(\"Loving and Caring\")\n",
    "\n",
    "class Father:\n",
    "    def father_traits(self):\n",
    "        print(\"Strong and Protective\")\n",
    "\n",
    "class Child(Mother, Father):  \n",
    "    def child_traits(self):\n",
    "        print(\"Smart and Playful\")\n",
    "\n",
    "child = Child()\n",
    "child.mother_traits()  # From Mother\n",
    "child.father_traits()  # From Father\n",
    "child.child_traits()   # Own method\n"
   ]
  },
  {
   "cell_type": "code",
   "execution_count": 6,
   "id": "1dc0b192-e0d5-495a-92f8-9d49c8820644",
   "metadata": {},
   "outputs": [
    {
     "name": "stdout",
     "output_type": "stream",
     "text": [
      "Wise and Experienced\n",
      "Strong and Responsible\n",
      "Curious and Playful\n"
     ]
    }
   ],
   "source": [
    "class Grandfather:\n",
    "    def grandfather_traits(self):\n",
    "        print(\"Wise and Experienced\")\n",
    "\n",
    "class Father(Grandfather):  # Inherits from Grandfather\n",
    "    def father_traits(self):\n",
    "        print(\"Strong and Responsible\")\n",
    "\n",
    "class Child(Father):  # Inherits from Father (which already inherited Grandfather)\n",
    "    def child_traits(self):\n",
    "        print(\"Curious and Playful\")\n",
    "\n",
    "child = Child()\n",
    "child.grandfather_traits()  # From Grandfather\n",
    "child.father_traits()       # From Father\n",
    "child.child_traits()        # Own method\n"
   ]
  },
  {
   "cell_type": "code",
   "execution_count": null,
   "id": "c50286a2-1ccf-4d7c-8931-b744e11ca2dd",
   "metadata": {},
   "outputs": [],
   "source": []
  }
 ],
 "metadata": {
  "kernelspec": {
   "display_name": "Python 3 (ipykernel)",
   "language": "python",
   "name": "python3"
  },
  "language_info": {
   "codemirror_mode": {
    "name": "ipython",
    "version": 3
   },
   "file_extension": ".py",
   "mimetype": "text/x-python",
   "name": "python",
   "nbconvert_exporter": "python",
   "pygments_lexer": "ipython3",
   "version": "3.13.0"
  }
 },
 "nbformat": 4,
 "nbformat_minor": 5
}
