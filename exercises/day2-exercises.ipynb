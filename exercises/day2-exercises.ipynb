{
 "cells": [
  {
   "cell_type": "code",
   "execution_count": 1,
   "id": "646c7b74-4d0a-4421-b55d-c8beb50301df",
   "metadata": {},
   "outputs": [
    {
     "name": "stdout",
     "output_type": "stream",
     "text": [
      "x is equal to 50\n"
     ]
    }
   ],
   "source": [
    "x = 50\n",
    "\n",
    "if x <= 10:\n",
    "    print(\"10 is less than 50\")\n",
    "elif x == 30:\n",
    "    print(\"x is between 10 & 30\")\n",
    "elif x == 70:\n",
    "    print(\"x is between 50 & 70\")\n",
    "else:\n",
    "    print(\"x is equal to 50\")\n"
   ]
  },
  {
   "cell_type": "code",
   "execution_count": 2,
   "id": "b0f107fc-7098-492d-accb-51ca9a00b084",
   "metadata": {},
   "outputs": [
    {
     "name": "stdin",
     "output_type": "stream",
     "text": [
      "Enter a number:  5\n"
     ]
    },
    {
     "name": "stdout",
     "output_type": "stream",
     "text": [
      "Odd\n"
     ]
    }
   ],
   "source": [
    "#odd or even code \n",
    "x = int(input(\"Enter a number: \"))\n",
    "\n",
    "if x % 2 == 0:\n",
    "    print(\"Even\")\n",
    "else:\n",
    "    print(\"Odd\")\n"
   ]
  },
  {
   "cell_type": "code",
   "execution_count": 6,
   "id": "ed0a162a-f746-42b6-b6bd-7d66dd5c92ec",
   "metadata": {},
   "outputs": [
    {
     "name": "stdin",
     "output_type": "stream",
     "text": [
      "Enter student's score:  22\n"
     ]
    },
    {
     "name": "stdout",
     "output_type": "stream",
     "text": [
      "Grade: Fail\n"
     ]
    }
   ],
   "source": [
    "# Write a program , take a students score and assign a grade using If-elif-else grade  \n",
    "score = int(input(\"Enter student's score: \"))\n",
    "\n",
    "if score >= 90:\n",
    "    print(\"Grade: O\")\n",
    "elif score >= 80:\n",
    "    print(\"Grade: A\")\n",
    "elif score >= 70:\n",
    "    print(\"Grade: B\")\n",
    "elif score >= 60:\n",
    "    print(\"Grade: C\")\n",
    "elif score >= 50:\n",
    "    print(\"Grade: D\")\n",
    "elif score >= 35:\n",
    "    print(\"Grade: E\")\n",
    "else:\n",
    "    print(\"Grade: Fail\")\n",
    "\n"
   ]
  },
  {
   "cell_type": "code",
   "execution_count": 8,
   "id": "6d640e85-ff95-457b-b2f2-1db538c76174",
   "metadata": {},
   "outputs": [
    {
     "name": "stdin",
     "output_type": "stream",
     "text": [
      "Enter first number:  23.55555555555555555\n",
      "Enter second number:  5.444444444444444\n",
      "Enter operation (+, -, *, /):  +\n"
     ]
    },
    {
     "name": "stdout",
     "output_type": "stream",
     "text": [
      "29.0\n"
     ]
    }
   ],
   "source": [
    "# calculater using If-elif-else \n",
    "a = float(input(\"Enter first number: \"))\n",
    "b = float(input(\"Enter second number: \"))\n",
    "op = input(\"Enter operation (+, -, *, /): \")\n",
    "\n",
    "if op == \"+\":\n",
    "    print(a + b)\n",
    "elif op == \"-\":\n",
    "    print(a - b)\n",
    "elif op == \"*\":\n",
    "    print(a * b)username = input(\"Enter your username: \")\n",
    "age = int(input(\"Enter your age: \"))\n",
    "\n",
    "if username == \"\":\n",
    "   print(\"Please enter a username!\")\n",
    "elif age >= 18:\n",
    "   print(f\"Welcome {username}! You are eligible to vote.\")\n",
    "elif age < 0:\n",
    "   print(\"Please enter a valid age!\")\n",
    "else:\n",
    "   years_left = 18 - age\n",
    "   print(f\"Sorry {username}, you cannot vote yet.\")\n",
    "   print(f\"You can vote after {years_left} years.\")"
   ]
  },
  {
   "cell_type": "code",
   "execution_count": 9,
   "id": "617961fe-807f-4b87-8ca0-9dee303f4b82",
   "metadata": {},
   "outputs": [
    {
     "name": "stdin",
     "output_type": "stream",
     "text": [
      "Enter your age:  13\n"
     ]
    },
    {
     "name": "stdout",
     "output_type": "stream",
     "text": [
      "Sorry, you are not eligible to vote yet.\n"
     ]
    }
   ],
   "source": [
    "age = int(input(\"Enter your age: \"))\n",
    "\n",
    "if age >= 18:\n",
    "    print(\"You are eligible to vote!\")\n",
    "else:\n",
    "    print(\"Sorry, you are not eligible to vote yet.\")"
   ]
  },
  {
   "cell_type": "code",
   "execution_count": 10,
   "id": "23a2085a-e20d-466c-b6ef-439bfff95759",
   "metadata": {},
   "outputs": [
    {
     "name": "stdin",
     "output_type": "stream",
     "text": [
      "Enter your username:  alok\n",
      "Enter your age:  12\n"
     ]
    },
    {
     "name": "stdout",
     "output_type": "stream",
     "text": [
      "Sorry alok, you cannot vote yet.\n",
      "You can vote after 6 years.\n"
     ]
    }
   ],
   "source": []
  },
  {
   "cell_type": "code",
   "execution_count": 12,
   "id": "9f656cd5-08d4-4dc9-a2f0-9a7af3b1d6c3",
   "metadata": {},
   "outputs": [
    {
     "name": "stdin",
     "output_type": "stream",
     "text": [
      "Enter username:  alok123\n",
      "Enter password:  alok123\n"
     ]
    },
    {
     "name": "stdout",
     "output_type": "stream",
     "text": [
      "Login successful! Welcome alok123\n"
     ]
    }
   ],
   "source": [
    "stored_username = \"alok123\"\n",
    "stored_password = \"alok123\"\n",
    "\n",
    "username = input(\"Enter username: \")\n",
    "password = input(\"Enter password: \")\n",
    "\n",
    "if username == stored_username and password == stored_password:\n",
    "   print(\"Login successful! Welcome\", username)\n",
    "elif username != stored_username:\n",
    "   print(\"Username is incorrect!\")\n",
    "elif password != stored_password:\n",
    "   print(\"Password is incorrect!\")\n",
    "else:\n",
    "   print(\"Both username and password are incorrect!\")"
   ]
  },
  {
   "cell_type": "code",
   "execution_count": 13,
   "id": "37b5efd5-a8e2-471b-9712-3b366de9ad23",
   "metadata": {},
   "outputs": [
    {
     "name": "stdin",
     "output_type": "stream",
     "text": [
      "Enter username:  alok123\n",
      "Enter password:  alok123\n"
     ]
    },
    {
     "name": "stdout",
     "output_type": "stream",
     "text": [
      "Login successful! Welcome alok123\n"
     ]
    }
   ],
   "source": [
    "u = \"alok123\"\n",
    "p = \"alok123\"\n",
    "x = input(\"Enter username: \")\n",
    "y = input(\"Enter password: \")\n",
    "\n",
    "if x == u and y == p:\n",
    "  print(\"Login successful! Welcome\", x)\n",
    "elif x != u:\n",
    "  print(\"Username is incorrect!\")\n",
    "elif y != p:\n",
    "  print(\"Password is incorrect!\")\n",
    "else:\n",
    "  print(\"Both username and password are incorrect!\")"
   ]
  },
  {
   "cell_type": "code",
   "execution_count": 14,
   "id": "a3386a08-1f7a-4daf-949d-fb4dceecfcca",
   "metadata": {},
   "outputs": [
    {
     "name": "stdin",
     "output_type": "stream",
     "text": [
      "Enter a number:  12\n"
     ]
    },
    {
     "name": "stdout",
     "output_type": "stream",
     "text": [
      "12 is not a prime number\n"
     ]
    }
   ],
   "source": [
    "# prime number code \n",
    "n = int(input(\"Enter a number: \"))\n",
    "i = 2\n",
    "f = 0\n",
    "\n",
    "if n <= 1:\n",
    "    print(\"Not a prime number\")\n",
    "else:\n",
    "    while i < n:\n",
    "        if n % i == 0:\n",
    "            f = 1\n",
    "            break\n",
    "        i += 1\n",
    "            \n",
    "    if f == 0:\n",
    "        print(n, \"is a prime number\")\n",
    "    else:\n",
    "        print(n, \"is not a prime number\")\n"
   ]
  },
  {
   "cell_type": "code",
   "execution_count": null,
   "id": "7579732e-1589-4c3e-a92a-619a5491fcbd",
   "metadata": {},
   "outputs": [],
   "source": []
  },
  {
   "cell_type": "code",
   "execution_count": null,
   "id": "c9ea6cb6-b89b-41e4-8a64-99ffbdd0fea4",
   "metadata": {},
   "outputs": [],
   "source": [
    "n = int(input(\"Enter a number: \"))\n",
    "\n",
    "if n <= 1:\n",
    "    print(n, \"is not a prime number\")\n",
    "else:\n",
    "    is_prime = True\n",
    "    \n",
    "    for i in range(2, n):\n",
    "        if n % i == 0:\n",
    "            is_prime = False\n",
    "            break\n",
    "\n",
    "    if is_prime:\n",
    "        print(n, \"is a prime number\")\n",
    "    else:\n",
    "        print(n, \"is not a prime number\")"
   ]
  },
  {
   "cell_type": "code",
   "execution_count": null,
   "id": "155137c5-9f16-4d9d-a7ac-38f912f60474",
   "metadata": {},
   "outputs": [],
   "source": [
    "\n",
    "char = input(\"Enter a character: \")\n",
    "\n",
    "\n",
    "if len(char) == 1:\n",
    "    # Convert the character to lowercase to handle both uppercase and lowercase inputs\n",
    "    char_lower = character.lower()\n",
    "    \n",
    "    # Check if the character is a vowel\n",
    "    if char_lower in ['a', 'e', 'i', 'o', 'u']:\n",
    "        print(f\"'{character}' is a vowel.\")\n",
    "    else:\n",
    "        print(f\"'{character}' is not a vowel.\")\n",
    "else:\n",
    "    print(\"Please enter a single character.\")\n",
    "numbers = [3, 7, 2, 9, 1, 5]  # Example list\n",
    "max_num = numbers[0]  # Assume the first element is the max\n",
    "\n",
    "for num in numbers:\n",
    "    if num > max_num:  # Compare with the current max\n",
    "        max_num = num  # Update max_num if a larger number is found\n",
    "\n",
    "print(\"Maximum number:\", max_num)\n",
    "\n",
    "\n"
   ]
  },
  {
   "cell_type": "markdown",
   "id": "a31b9323-fae2-4f45-a2a8-a3ef775b9266",
   "metadata": {},
   "source": [
    "### LOOPS"
   ]
  },
  {
   "cell_type": "code",
   "execution_count": 64,
   "id": "dadc3014-85cb-41cf-8308-e2b2a778c3e5",
   "metadata": {},
   "outputs": [
    {
     "name": "stdout",
     "output_type": "stream",
     "text": [
      "Maximun numer: 11\n"
     ]
    }
   ],
   "source": [
    "# find max numeber in 1 to 10 without max word , without using inbuid function \n",
    "no = [3,7,2,5,4,9,11]\n",
    "maxno = 0\n",
    "\n",
    "for i in no:\n",
    "    if i > maxno:\n",
    "        maxno = i\n",
    "print(\"Maximun numer:\", maxno)\n",
    "\n"
   ]
  },
  {
   "cell_type": "code",
   "execution_count": 63,
   "id": "811af91b-cad5-40d4-996b-bdbc3eaa3650",
   "metadata": {},
   "outputs": [
    {
     "ename": "IndexError",
     "evalue": "list index out of range",
     "output_type": "error",
     "traceback": [
      "\u001b[1;31m---------------------------------------------------------------------------\u001b[0m",
      "\u001b[1;31mIndexError\u001b[0m                                Traceback (most recent call last)",
      "Cell \u001b[1;32mIn[63], line 4\u001b[0m\n\u001b[0;32m      1\u001b[0m list1 \u001b[38;5;241m=\u001b[39m [\u001b[38;5;241m3\u001b[39m, \u001b[38;5;241m7\u001b[39m, \u001b[38;5;241m2\u001b[39m, \u001b[38;5;241m5\u001b[39m, \u001b[38;5;241m4\u001b[39m, \u001b[38;5;241m9\u001b[39m]\n\u001b[0;32m      3\u001b[0m \u001b[38;5;28;01mfor\u001b[39;00m i \u001b[38;5;129;01min\u001b[39;00m \u001b[38;5;28mrange\u001b[39m(\u001b[38;5;241m0\u001b[39m,\u001b[38;5;241m6\u001b[39m): \n\u001b[1;32m----> 4\u001b[0m     \u001b[38;5;28;01mif\u001b[39;00m list1[i] \u001b[38;5;241m<\u001b[39m\u001b[38;5;241m=\u001b[39m \u001b[43mlist1\u001b[49m\u001b[43m[\u001b[49m\u001b[43mi\u001b[49m\u001b[43m \u001b[49m\u001b[38;5;241;43m+\u001b[39;49m\u001b[43m \u001b[49m\u001b[38;5;241;43m1\u001b[39;49m\u001b[43m]\u001b[49m: \n\u001b[0;32m      5\u001b[0m         max1 \u001b[38;5;241m=\u001b[39m \u001b[38;5;28mlist\u001b[39m[i \u001b[38;5;241m+\u001b[39m \u001b[38;5;241m1\u001b[39m]\n\u001b[0;32m      7\u001b[0m \u001b[38;5;28mprint\u001b[39m(max1)\n",
      "\u001b[1;31mIndexError\u001b[0m: list index out of range"
     ]
    }
   ],
   "source": [
    "list1 = [3, 7, 2, 5, 4, 9]\n",
    "\n",
    "for i in range(0,6): \n",
    "    if list1[i] <= list1[i + 1]: \n",
    "        max1 = list[i + 1]\n",
    "\n",
    "print(max1)\n",
    "\n"
   ]
  },
  {
   "cell_type": "code",
   "execution_count": 31,
   "id": "77bf1846-44b4-4d22-899a-9d5cb1d83e3e",
   "metadata": {},
   "outputs": [
    {
     "name": "stdout",
     "output_type": "stream",
     "text": [
      "Sum of the list: 30\n"
     ]
    }
   ],
   "source": [
    "# sum of the list \n",
    "list1 = [3, 7, 2, 5, 4, 9]\n",
    "total = 0 \n",
    "\n",
    "for num in list1:  \n",
    "    total += num \n",
    "\n",
    "print(\"Sum of the list:\", total)\n",
    " \n"
   ]
  },
  {
   "cell_type": "code",
   "execution_count": 35,
   "id": "bf2bf74f-966a-4505-8066-53c66349182f",
   "metadata": {},
   "outputs": [
    {
     "name": "stdout",
     "output_type": "stream",
     "text": [
      "racecar is a palindrome.\n"
     ]
    }
   ],
   "source": [
    "\n",
    "s = \"racecar\"\n",
    "\n",
    "\n",
    "l=0\n",
    "r=0\n",
    "\n",
    "while s[r:]:\n",
    "    r += 1\n",
    "\n",
    "r -= 1\n",
    "\n",
    "while l < r:\n",
    "    if s[l] != s[r]:\n",
    "        print(f\"{s} is not a palindrome.\")\n",
    "        break\n",
    "    l += 1\n",
    "    r -= 1\n",
    "else:\n",
    "    print(f\"{s} is a palindrome.\")\n",
    "\n",
    "\n"
   ]
  },
  {
   "cell_type": "code",
   "execution_count": 37,
   "id": "e584cdae-de77-4be0-932c-aeaf5fbf8d0d",
   "metadata": {},
   "outputs": [
    {
     "name": "stdout",
     "output_type": "stream",
     "text": [
      "madam is a palindrome.\n"
     ]
    }
   ],
   "source": [
    "s = \"madam\"\n",
    "\n",
    "\n",
    "if s == s[::-1]:\n",
    "    print(f\"{s} is a palindrome.\")\n",
    "else:\n",
    "    print(f\"{s} is not a palindrome.\")\n",
    "\n"
   ]
  },
  {
   "cell_type": "code",
   "execution_count": 40,
   "id": "27883eba-d18d-4107-915a-3d16d4d6e8fd",
   "metadata": {},
   "outputs": [
    {
     "name": "stdout",
     "output_type": "stream",
     "text": [
      "racecar is a palindrome.\n"
     ]
    }
   ],
   "source": [
    "s = \"racecar\" \n",
    "\n",
    "\n",
    "if s == s[::-1]:\n",
    "    print(f\"{s} is a palindrome.\")\n",
    "else:\n",
    "    print(f\"{s} is not a palindrome.\")"
   ]
  },
  {
   "cell_type": "code",
   "execution_count": 50,
   "id": "0fb7baec-d028-41c4-8872-bdc80d333027",
   "metadata": {},
   "outputs": [
    {
     "name": "stdout",
     "output_type": "stream",
     "text": [
      "Maximum number: 11\n"
     ]
    }
   ],
   "source": [
    "lst = [3, 7, 2, 5, 4, 9, 11]\n",
    "max_no = lst[0]\n",
    "i = 0\n",
    "\n",
    "while i < len(lst):\n",
    "    if lst[i] > max_no:\n",
    "        max_no = lst[i]\n",
    "    i = i + 1\n",
    "\n",
    "print(\"Maximum number:\", max_no)"
   ]
  },
  {
   "cell_type": "code",
   "execution_count": 51,
   "id": "f0791524-a13d-42b7-8f24-6d9997a5a76d",
   "metadata": {},
   "outputs": [
    {
     "name": "stdout",
     "output_type": "stream",
     "text": [
      "Maximum number: 11\n"
     ]
    }
   ],
   "source": [
    "lst = [3, 7, 2, 5, 4, 9, 11]\n",
    "max_no = lst[0]\n",
    "i = 0\n",
    "\n",
    "while i < 7:\n",
    "    if lst[i] > max_no:\n",
    "        max_no = lst[i]\n",
    "    i += 1\n",
    "\n",
    "print(\"Maximum number:\", max_no)"
   ]
  },
  {
   "cell_type": "code",
   "execution_count": 53,
   "id": "c90f1ce4-7a16-402d-8823-401ffc1b1215",
   "metadata": {},
   "outputs": [
    {
     "name": "stdout",
     "output_type": "stream",
     "text": [
      "2\n",
      "4\n",
      "6\n",
      "8\n",
      "10\n",
      "12\n",
      "14\n",
      "16\n",
      "18\n",
      "20\n"
     ]
    }
   ],
   "source": [
    "num = 2\n",
    "i = 1\n",
    "\n",
    "while i <= 10:\n",
    "    print( num * i)\n",
    "    i += 1"
   ]
  },
  {
   "cell_type": "code",
   "execution_count": 54,
   "id": "30b102fb-1bd0-4ab2-b6af-4c2548b5415e",
   "metadata": {},
   "outputs": [
    {
     "name": "stdout",
     "output_type": "stream",
     "text": [
      "2\n",
      "4\n",
      "6\n",
      "8\n",
      "10\n",
      "12\n",
      "14\n",
      "16\n",
      "18\n",
      "20\n"
     ]
    }
   ],
   "source": [
    "i = 1\n",
    "while i <= 10: print(2 * i); i += 1"
   ]
  },
  {
   "cell_type": "code",
   "execution_count": 55,
   "id": "748a7405-437e-4442-81ac-7e7e406d4411",
   "metadata": {},
   "outputs": [
    {
     "name": "stdout",
     "output_type": "stream",
     "text": [
      "True\n"
     ]
    }
   ],
   "source": [
    "print(5==5)"
   ]
  },
  {
   "cell_type": "code",
   "execution_count": 56,
   "id": "a6589fd1-206f-428c-b0ec-396e78f3cb90",
   "metadata": {},
   "outputs": [
    {
     "name": "stdout",
     "output_type": "stream",
     "text": [
      "0\n",
      "1\n",
      "2\n"
     ]
    }
   ],
   "source": [
    "for i in range(3): print(i)\n",
    "    "
   ]
  },
  {
   "cell_type": "markdown",
   "id": "4aa2b775-00df-45f3-9ad6-822bfd361995",
   "metadata": {},
   "source": [
    "### Function in python"
   ]
  },
  {
   "cell_type": "code",
   "execution_count": 57,
   "id": "645aeffe-f4d3-4693-9052-513c66bab659",
   "metadata": {},
   "outputs": [
    {
     "name": "stdout",
     "output_type": "stream",
     "text": [
      "Welcome to Zeal\n"
     ]
    }
   ],
   "source": [
    "def zeal():\n",
    "    print(\"Welcome to Zeal\")\n",
    "zeal()"
   ]
  },
  {
   "cell_type": "code",
   "execution_count": 58,
   "id": "05f5da1d-5bb9-4e7c-9ba3-788f708fc3e8",
   "metadata": {},
   "outputs": [
    {
     "name": "stdin",
     "output_type": "stream",
     "text": [
      "Enter a number:  23\n"
     ]
    },
    {
     "name": "stdout",
     "output_type": "stream",
     "text": [
      "The number 23 is Odd.\n"
     ]
    }
   ],
   "source": [
    "# odd even in function\n",
    "def O_E(number):\n",
    "    if number % 2 == 0:\n",
    "        return \"Even\"\n",
    "    else:\n",
    "        return \"Odd\"\n",
    "\n",
    "num = int(input(\"Enter a number: \"))\n",
    "result = O_E(num)\n",
    "print(f\"The number {num} is {result}.\")"
   ]
  },
  {
   "cell_type": "code",
   "execution_count": 59,
   "id": "dafd1359-d535-45f3-81cd-ed3a11642995",
   "metadata": {},
   "outputs": [
    {
     "name": "stdin",
     "output_type": "stream",
     "text": [
      "Enter a number:  34546\n"
     ]
    },
    {
     "name": "stdout",
     "output_type": "stream",
     "text": [
      "The number is: Even\n"
     ]
    }
   ],
   "source": [
    "def odd_even(number):\n",
    "    if number % 2 == 0:\n",
    "        return \"Even\"\n",
    "    else:\n",
    "        return \"Odd\"\n",
    "\n",
    "# Example usage\n",
    "num = int(input(\"Enter a number: \"))\n",
    "result = odd_even(num)\n",
    "print(\"The number is:\", result)"
   ]
  },
  {
   "cell_type": "code",
   "execution_count": 61,
   "id": "e6604d7a-f4f0-424d-b9cc-72e0925c065c",
   "metadata": {},
   "outputs": [
    {
     "name": "stdin",
     "output_type": "stream",
     "text": [
      "Enter a number:  23\n"
     ]
    },
    {
     "name": "stdout",
     "output_type": "stream",
     "text": [
      "Odd\n"
     ]
    }
   ],
   "source": [
    "#odd even using function in python  \n",
    "def odd_even(n):\n",
    "    if n % 2 == 0:\n",
    "        print(\"Even\")\n",
    "    else:\n",
    "        print(\"Odd\")\n",
    "\n",
    "\n",
    "num = int(input(\"Enter a number: \"))\n",
    "odd_even(num)"
   ]
  },
  {
   "cell_type": "code",
   "execution_count": 62,
   "id": "2ed14a34-6435-4100-80b7-531691f9e19b",
   "metadata": {},
   "outputs": [
    {
     "name": "stdin",
     "output_type": "stream",
     "text": [
      "Enter the first number:  12\n",
      "Enter the second number:  12\n"
     ]
    },
    {
     "name": "stdout",
     "output_type": "stream",
     "text": [
      "24\n"
     ]
    }
   ],
   "source": [
    "#Sum of two number in python  \n",
    "def sum_two_numbers(a, b):\n",
    "    print(a + b)\n",
    "\n",
    "num1 = int(input(\"Enter the first number: \"))\n",
    "num2 = int(input(\"Enter the second number: \"))\n",
    "sum_two_numbers(num1, num2)"
   ]
  },
  {
   "cell_type": "code",
   "execution_count": 67,
   "id": "bc39fbf6-369a-4402-a68e-d1503b86ce04",
   "metadata": {},
   "outputs": [
    {
     "ename": "UnboundLocalError",
     "evalue": "cannot access local variable 'maxno' where it is not associated with a value",
     "output_type": "error",
     "traceback": [
      "\u001b[1;31m---------------------------------------------------------------------------\u001b[0m",
      "\u001b[1;31mUnboundLocalError\u001b[0m                         Traceback (most recent call last)",
      "Cell \u001b[1;32mIn[67], line 11\u001b[0m\n\u001b[0;32m      9\u001b[0m \u001b[38;5;66;03m# Example usage\u001b[39;00m\n\u001b[0;32m     10\u001b[0m no \u001b[38;5;241m=\u001b[39m [\u001b[38;5;241m3\u001b[39m, \u001b[38;5;241m7\u001b[39m, \u001b[38;5;241m2\u001b[39m, \u001b[38;5;241m5\u001b[39m, \u001b[38;5;241m4\u001b[39m, \u001b[38;5;241m9\u001b[39m, \u001b[38;5;241m11\u001b[39m]\n\u001b[1;32m---> 11\u001b[0m maximum_number \u001b[38;5;241m=\u001b[39m \u001b[43mfind_max\u001b[49m\u001b[43m(\u001b[49m\u001b[43mno\u001b[49m\u001b[43m)\u001b[49m\n\u001b[0;32m     12\u001b[0m \u001b[38;5;28mprint\u001b[39m(\u001b[38;5;124m\"\u001b[39m\u001b[38;5;124mMaximum number:\u001b[39m\u001b[38;5;124m\"\u001b[39m, maximum_number)\n",
      "Cell \u001b[1;32mIn[67], line 5\u001b[0m, in \u001b[0;36mfind_max\u001b[1;34m(numbers)\u001b[0m\n\u001b[0;32m      2\u001b[0m \u001b[38;5;28;01mdef\u001b[39;00m \u001b[38;5;21mfind_max\u001b[39m(numbers):\n\u001b[0;32m      4\u001b[0m     \u001b[38;5;28;01mfor\u001b[39;00m i \u001b[38;5;129;01min\u001b[39;00m numbers:\n\u001b[1;32m----> 5\u001b[0m         \u001b[38;5;28;01mif\u001b[39;00m i \u001b[38;5;241m>\u001b[39m \u001b[43mmaxno\u001b[49m:\n\u001b[0;32m      6\u001b[0m             maxno \u001b[38;5;241m=\u001b[39m i\n\u001b[0;32m      7\u001b[0m     \u001b[38;5;28;01mreturn\u001b[39;00m maxno\n",
      "\u001b[1;31mUnboundLocalError\u001b[0m: cannot access local variable 'maxno' where it is not associated with a value"
     ]
    }
   ],
   "source": [
    "# Max number by function \n",
    "def find_max(numbers):\n",
    "    maxno = numbers[0]\n",
    "    for i in numbers:\n",
    "        if i > maxno:\n",
    "            maxno = i\n",
    "    return maxno\n",
    "\n",
    "# Example usage\n",
    "no = [3, 7, 2, 5, 4, 9, 11]\n",
    "maximum_number = find_max(no)\n",
    "print(\"Maximum number:\", maximum_number)"
   ]
  },
  {
   "cell_type": "code",
   "execution_count": 69,
   "id": "4d6dad6c-a1f1-4380-9056-8e8b60d3e39a",
   "metadata": {},
   "outputs": [
    {
     "name": "stdout",
     "output_type": "stream",
     "text": [
      "Maximum number: 98765432\n"
     ]
    }
   ],
   "source": [
    "def find_max(numbers):\n",
    "    maxno = numbers[0]\n",
    "    for i in numbers:\n",
    "        if i > maxno:\n",
    "            maxno = i\n",
    "    return maxno\n",
    "\n",
    "no = [3, 7, 2, 5, 4, 9, 11,999,2434,45,98765432]\n",
    "print(\"Maximum number:\", find_max(no))\n"
   ]
  },
  {
   "cell_type": "code",
   "execution_count": 70,
   "id": "eb8768ed-b592-4547-98c3-b9469ee95ba0",
   "metadata": {},
   "outputs": [
    {
     "name": "stdout",
     "output_type": "stream",
     "text": [
      "Maximum number: 11\n"
     ]
    }
   ],
   "source": [
    "def find_max(a, b, c):\n",
    "    maxno = a\n",
    "    if b > maxno:\n",
    "        maxno = b\n",
    "    if c > maxno:\n",
    "        maxno = c\n",
    "    return maxno\n",
    "\n",
    "# Example usage\n",
    "a = 3\n",
    "b = 7\n",
    "c = 11\n",
    "print(\"Maximum number:\", find_max(a, b, c))"
   ]
  },
  {
   "cell_type": "code",
   "execution_count": 71,
   "id": "013047a3-31a2-4e68-a7e6-736a5c7aa66c",
   "metadata": {},
   "outputs": [
    {
     "ename": "RecursionError",
     "evalue": "maximum recursion depth exceeded",
     "output_type": "error",
     "traceback": [
      "\u001b[1;31m---------------------------------------------------------------------------\u001b[0m",
      "\u001b[1;31mRecursionError\u001b[0m                            Traceback (most recent call last)",
      "Cell \u001b[1;32mIn[71], line 4\u001b[0m\n\u001b[0;32m      1\u001b[0m \u001b[38;5;28;01mdef\u001b[39;00m \u001b[38;5;21mfactorial\u001b[39m(n, result\u001b[38;5;241m=\u001b[39m\u001b[38;5;241m1\u001b[39m):\n\u001b[0;32m      2\u001b[0m         factorial(n \u001b[38;5;241m-\u001b[39m \u001b[38;5;241m1\u001b[39m, result \u001b[38;5;241m*\u001b[39m n)\n\u001b[1;32m----> 4\u001b[0m \u001b[43mfactorial\u001b[49m\u001b[43m(\u001b[49m\u001b[38;5;241;43m3\u001b[39;49m\u001b[43m)\u001b[49m\n",
      "Cell \u001b[1;32mIn[71], line 2\u001b[0m, in \u001b[0;36mfactorial\u001b[1;34m(n, result)\u001b[0m\n\u001b[0;32m      1\u001b[0m \u001b[38;5;28;01mdef\u001b[39;00m \u001b[38;5;21mfactorial\u001b[39m(n, result\u001b[38;5;241m=\u001b[39m\u001b[38;5;241m1\u001b[39m):\n\u001b[1;32m----> 2\u001b[0m         \u001b[43mfactorial\u001b[49m\u001b[43m(\u001b[49m\u001b[43mn\u001b[49m\u001b[43m \u001b[49m\u001b[38;5;241;43m-\u001b[39;49m\u001b[43m \u001b[49m\u001b[38;5;241;43m1\u001b[39;49m\u001b[43m,\u001b[49m\u001b[43m \u001b[49m\u001b[43mresult\u001b[49m\u001b[43m \u001b[49m\u001b[38;5;241;43m*\u001b[39;49m\u001b[43m \u001b[49m\u001b[43mn\u001b[49m\u001b[43m)\u001b[49m\n",
      "Cell \u001b[1;32mIn[71], line 2\u001b[0m, in \u001b[0;36mfactorial\u001b[1;34m(n, result)\u001b[0m\n\u001b[0;32m      1\u001b[0m \u001b[38;5;28;01mdef\u001b[39;00m \u001b[38;5;21mfactorial\u001b[39m(n, result\u001b[38;5;241m=\u001b[39m\u001b[38;5;241m1\u001b[39m):\n\u001b[1;32m----> 2\u001b[0m         \u001b[43mfactorial\u001b[49m\u001b[43m(\u001b[49m\u001b[43mn\u001b[49m\u001b[43m \u001b[49m\u001b[38;5;241;43m-\u001b[39;49m\u001b[43m \u001b[49m\u001b[38;5;241;43m1\u001b[39;49m\u001b[43m,\u001b[49m\u001b[43m \u001b[49m\u001b[43mresult\u001b[49m\u001b[43m \u001b[49m\u001b[38;5;241;43m*\u001b[39;49m\u001b[43m \u001b[49m\u001b[43mn\u001b[49m\u001b[43m)\u001b[49m\n",
      "    \u001b[1;31m[... skipping similar frames: factorial at line 2 (2974 times)]\u001b[0m\n",
      "Cell \u001b[1;32mIn[71], line 2\u001b[0m, in \u001b[0;36mfactorial\u001b[1;34m(n, result)\u001b[0m\n\u001b[0;32m      1\u001b[0m \u001b[38;5;28;01mdef\u001b[39;00m \u001b[38;5;21mfactorial\u001b[39m(n, result\u001b[38;5;241m=\u001b[39m\u001b[38;5;241m1\u001b[39m):\n\u001b[1;32m----> 2\u001b[0m         \u001b[43mfactorial\u001b[49m\u001b[43m(\u001b[49m\u001b[43mn\u001b[49m\u001b[43m \u001b[49m\u001b[38;5;241;43m-\u001b[39;49m\u001b[43m \u001b[49m\u001b[38;5;241;43m1\u001b[39;49m\u001b[43m,\u001b[49m\u001b[43m \u001b[49m\u001b[43mresult\u001b[49m\u001b[43m \u001b[49m\u001b[38;5;241;43m*\u001b[39;49m\u001b[43m \u001b[49m\u001b[43mn\u001b[49m\u001b[43m)\u001b[49m\n",
      "\u001b[1;31mRecursionError\u001b[0m: maximum recursion depth exceeded"
     ]
    }
   ],
   "source": [
    "def factorial(n, result=1):\n",
    "        factorial(n - 1, result * n)\n",
    "\n",
    "factorial(3)"
   ]
  },
  {
   "cell_type": "code",
   "execution_count": 85,
   "id": "39a28842-9818-4062-ac03-de2de8bdcdc0",
   "metadata": {},
   "outputs": [
    {
     "name": "stdin",
     "output_type": "stream",
     "text": [
      "Enter a number:  3\n"
     ]
    },
    {
     "name": "stdout",
     "output_type": "stream",
     "text": [
      "Factorial of 3 is 6\n"
     ]
    }
   ],
   "source": [
    "def factorial(n):\n",
    "    result = 1\n",
    "    for i in range(1, n + 1):\n",
    "        result *= i\n",
    "    return result\n",
    "\n",
    "n = int(input(\"Enter a number: \"))\n",
    "print(f\"Factorial of {n} is {factorial(n)}\")"
   ]
  },
  {
   "cell_type": "code",
   "execution_count": null,
   "id": "f7124f98-8a02-4a21-b1d5-f6e462a92db9",
   "metadata": {},
   "outputs": [],
   "source": [
    "def factorial(n, result=1):\n",
    "    if n == 0 or n == 1:  \n",
    "        print(\"Factorial:\", result)\n",
    "    else:\n",
    "        factorial(n - 1, result * n)  \n",
    "\n",
    "factorial(3)"
   ]
  }
 ],
 "metadata": {
  "kernelspec": {
   "display_name": "Python 3 (ipykernel)",
   "language": "python",
   "name": "python3"
  },
  "language_info": {
   "codemirror_mode": {
    "name": "ipython",
    "version": 3
   },
   "file_extension": ".py",
   "mimetype": "text/x-python",
   "name": "python",
   "nbconvert_exporter": "python",
   "pygments_lexer": "ipython3",
   "version": "3.13.0"
  }
 },
 "nbformat": 4,
 "nbformat_minor": 5
}
