{
 "cells": [
  {
   "cell_type": "code",
   "execution_count": 1,
   "id": "12a9c304-2b70-479e-b651-cc06617fd22c",
   "metadata": {},
   "outputs": [
    {
     "ename": "SyntaxError",
     "evalue": "invalid syntax (2163328455.py, line 1)",
     "output_type": "error",
     "traceback": [
      "\u001b[1;36m  Cell \u001b[1;32mIn[1], line 1\u001b[1;36m\u001b[0m\n\u001b[1;33m    FInd the second largest number in the list using function\u001b[0m\n\u001b[1;37m         ^\u001b[0m\n\u001b[1;31mSyntaxError\u001b[0m\u001b[1;31m:\u001b[0m invalid syntax\n"
     ]
    }
   ],
   "source": [
    "FInd the second largest number in the list using function "
   ]
  },
  {
   "cell_type": "code",
   "execution_count": 2,
   "id": "1a680b18-86ba-4b82-a053-c58b5e811920",
   "metadata": {},
   "outputs": [
    {
     "name": "stdout",
     "output_type": "stream",
     "text": [
      "4\n"
     ]
    }
   ],
   "source": [
    "#Find the second largest number in the list using function \n",
    "def second_largest(numbers):\n",
    "    unique_numbers = list(set(numbers))\n",
    "    if len(unique_numbers) < 2:\n",
    "        return None\n",
    "    unique_numbers.sort()\n",
    "    return unique_numbers[-2]\n",
    "\n",
    "numbers = [4, 1, 3, 2, 5, 5]\n",
    "result = second_largest(numbers)\n",
    "print(result)"
   ]
  },
  {
   "cell_type": "code",
   "execution_count": 3,
   "id": "5b1b703e-a4e7-40fd-ac56-46211ddc5a66",
   "metadata": {},
   "outputs": [
    {
     "name": "stdout",
     "output_type": "stream",
     "text": [
      "4\n"
     ]
    }
   ],
   "source": [
    "def second_largest(numbers):\n",
    "    first = second = float('-inf')\n",
    "    for number in numbers:\n",
    "        if number > first:\n",
    "            second = first\n",
    "            first = number\n",
    "        elif first > number > second:\n",
    "            second = number\n",
    "    return second if second != float('-inf') else None\n",
    "\n",
    "numbers = [4, 1, 3, 2, 5, 5]\n",
    "result = second_largest(numbers)\n",
    "print(result)"
   ]
  },
  {
   "cell_type": "code",
   "execution_count": null,
   "id": "2d5ac9ee-feb5-4980-b51e-ebb474185e54",
   "metadata": {},
   "outputs": [],
   "source": [
    "def second_largest(numbers):\n",
    "    numbers = set(numbers)  \n",
    "    return sorted(numbers)[-2] if len(numbers) > 1 else None  \n",
    "\n",
    "numbers = [4, 1, 3, 2, 5, 5]\n",
    "print(second_largest(numbers))  # O\n"
   ]
  },
  {
   "cell_type": "code",
   "execution_count": null,
   "id": "9084c84e-53ba-426f-8bc2-bb4b49915511",
   "metadata": {},
   "outputs": [],
   "source": [
    "# Second Largest number in the List - \n",
    "\n",
    "def second_largest(numbers):\n",
    "    max1 = -1  \n",
    "    max2 = -1  \n",
    "    \n",
    "    for num in numbers:\n",
    "        if num > max1:\n",
    "            max2 = max1  \n",
    "            max1 = num  \n",
    "        elif num > max2 and num != max1:\n",
    "            max2 = num  \n",
    "    return max2  \n",
    "\n",
    "numbers = [4, 1, 3, 2, 5, 5]\n",
    "print(second_largest(numbers))  # Output: 4\n"
   ]
  },
  {
   "cell_type": "code",
   "execution_count": null,
   "id": "d28f67e6-4fca-40a1-ba53-e72446581832",
   "metadata": {},
   "outputs": [],
   "source": [
    "#second largest number in the list \n",
    "n = [4, 1, 3, 2, 5, 5]\n",
    "\n",
    "b = 0\n",
    "s = 0\n",
    "\n",
    "for x in n:\n",
    "    if x > b:\n",
    "        s = b\n",
    "        b = x\n",
    "    elif x > s and x != b:\n",
    "        s = x\n",
    "\n",
    "print(s)  \n"
   ]
  },
  {
   "cell_type": "code",
   "execution_count": 4,
   "id": "1e7af4be-6124-4594-b258-ca0c30d00dd9",
   "metadata": {},
   "outputs": [
    {
     "name": "stdout",
     "output_type": "stream",
     "text": [
      "4\n"
     ]
    }
   ],
   "source": [
    "n = [4, 1, 3, 2, 5, 5]\n",
    "\n",
    "unique_numbers = set(n)  # Convert list to set to remove duplicates\n",
    "sorted_numbers = sorted(unique_numbers, reverse=True)  # Sort in descending order\n",
    "\n",
    "print(sorted_numbers[1])  \n"
   ]
  },
  {
   "cell_type": "code",
   "execution_count": 6,
   "id": "bcb13b4a-94b8-46e0-90e2-ff73c9a6e93d",
   "metadata": {},
   "outputs": [
    {
     "name": "stdout",
     "output_type": "stream",
     "text": [
      "9\n"
     ]
    }
   ],
   "source": [
    "n = [4, 1, 9,10, 2, 5, 5]\n",
    "\n",
    "s = sorted(set(n), reverse=True)  # Remove duplicates & sort in descending order\n",
    "print(s[1])  # Second largest number\n",
    "\n"
   ]
  },
  {
   "cell_type": "code",
   "execution_count": 7,
   "id": "74f7d306-695e-4ff1-b13a-3807bda5541b",
   "metadata": {},
   "outputs": [
    {
     "name": "stdout",
     "output_type": "stream",
     "text": [
      "4\n"
     ]
    }
   ],
   "source": [
    "def second_largest(n):\n",
    "    s = sorted(set(n), reverse=True)  # Remove duplicates & sort in descending order\n",
    "    return s[1]  # Return second largest number\n",
    "\n",
    "n = [4, 1, 3, 2, 5, 5]\n",
    "print(second_largest(n))  \n",
    "\n"
   ]
  },
  {
   "cell_type": "code",
   "execution_count": 8,
   "id": "e5f41ef3-e1f9-47fc-9aad-a3c67f610411",
   "metadata": {},
   "outputs": [
    {
     "name": "stdout",
     "output_type": "stream",
     "text": [
      "Sum of list: 20\n",
      "Second largest: 4\n"
     ]
    }
   ],
   "source": [
    "def sum_list(func):\n",
    "    def wrapper(n):\n",
    "        print(\"Sum of list:\", sum(n))  # Print the sum of the list\n",
    "        return func(n)  # Call the original function\n",
    "    return wrapper\n",
    "\n",
    "@sum_list\n",
    "def second_largest(n):\n",
    "    b = s = float('-inf')  \n",
    "    for x in n:\n",
    "        if x > b:\n",
    "            s, b = b, x  \n",
    "        elif x > s and x != b:\n",
    "            s = x  \n",
    "    return s\n",
    "\n",
    "n = [4, 1, 3, 2, 5, 5]\n",
    "print(\"Second largest:\", second_largest(n))\n"
   ]
  },
  {
   "cell_type": "code",
   "execution_count": null,
   "id": "cd685329-e78a-46c7-a63d-b889ae6c3129",
   "metadata": {},
   "outputs": [],
   "source": [
    "def add_sum(func):\n",
    "    def wrapper(n):\n",
    "        print(\"Sum of list:\", sum(n))  # Print sum of the list\n",
    "        return func(n)  # Call the original function\n",
    "    return wrapper\n",
    "\n",
    "@add_sum\n",
    "def second_largest(n):\n",
    "    b = s = 0  # Start with 0\n",
    "    for x in n:\n",
    "        if x > b:\n",
    "            s, b = b, x  # Update biggest and second biggest\n",
    "        elif x > s and x != b:\n",
    "            s = x  # Update second biggest\n",
    "    return s\n",
    "\n",
    "n = [4, 1, 3, 2, 5, 5]\n",
    "print(\"Second largest:\", second_largest(n))\n"
   ]
  },
  {
   "cell_type": "code",
   "execution_count": 9,
   "id": "18e8845f-a0c8-400c-93be-4716ba0b7b7e",
   "metadata": {},
   "outputs": [
    {
     "name": "stdout",
     "output_type": "stream",
     "text": [
      "Sum of list: 20\n"
     ]
    }
   ],
   "source": [
    "def add_sum(func):\n",
    "    def wrapper(n):\n",
    "        print(\"Sum of list:\", sum(n)) \n",
    "    return wrapper\n",
    "\n",
    "@add_sum\n",
    "def process_list(n):\n",
    "    pass \n",
    "\n",
    "n = [4, 1, 3, 2, 5, 5]\n",
    "process_list(n)\n"
   ]
  },
  {
   "cell_type": "code",
   "execution_count": null,
   "id": "3a04b500-b98e-4b95-ba61-07666bb1b050",
   "metadata": {},
   "outputs": [],
   "source": [
    "# write a decorater that a retuen value to uppercase \n"
   ]
  },
  {
   "cell_type": "code",
   "execution_count": 10,
   "id": "0041081a-4493-4422-83a0-aa8de40e1628",
   "metadata": {},
   "outputs": [
    {
     "name": "stdout",
     "output_type": "stream",
     "text": [
      "100\n",
      "True\n"
     ]
    }
   ],
   "source": []
  },
  {
   "cell_type": "code",
   "execution_count": null,
   "id": "c6a9c8e8-a0b6-43d2-ac1c-1b686b3e2a9d",
   "metadata": {},
   "outputs": [],
   "source": [
    "def nsme (name)\n",
    "for i in name \n",
    "print (i)\n",
    "xyz = nsme{ apple school}\n"
   ]
  },
  {
   "cell_type": "code",
   "execution_count": 11,
   "id": "c2b95710-1e85-40d1-8790-0022cd1a02bf",
   "metadata": {},
   "outputs": [
    {
     "name": "stdout",
     "output_type": "stream",
     "text": [
      "Apple\n",
      "School\n"
     ]
    }
   ],
   "source": [
    "def nsme(name, school): \n",
    "    for i in [name, school]:  #\n",
    "        print(i)\n",
    "\n",
    "xyz = nsme(\"Apple\", \"School\")\n"
   ]
  },
  {
   "cell_type": "code",
   "execution_count": null,
   "id": "55e7edb8-f1fe-46c7-b6bd-d01d0f157ce8",
   "metadata": {},
   "outputs": [],
   "source": [
    "def func(name):  \n",
    "    for i in [name, school]:  \n",
    "        print(i)\n",
    "\n",
    "xyz = func(\"Apple\", \"School\")  # Passing parameters here\n",
    "print(xyz)  # Prints None because func() only prints and has no return value\n"
   ]
  },
  {
   "cell_type": "code",
   "execution_count": 12,
   "id": "1ced9d1e-e91d-463d-9df4-3f0f596aba95",
   "metadata": {},
   "outputs": [
    {
     "name": "stdout",
     "output_type": "stream",
     "text": [
      "Apple\n",
      "School\n"
     ]
    }
   ],
   "source": [
    "def func(name):  \n",
    "    for i in name: \n",
    "        print(i)\n",
    "\n",
    "xyz = func([\"Apple\", \"School\"])  \n"
   ]
  },
  {
   "cell_type": "code",
   "execution_count": 13,
   "id": "3aed8e1e-2acc-4a67-bed3-12167f819547",
   "metadata": {},
   "outputs": [
    {
     "name": "stdout",
     "output_type": "stream",
     "text": [
      "Apple\n"
     ]
    }
   ],
   "source": [
    "def func(name):  \n",
    "    for i in name:\n",
    "        yield i \n",
    "\n",
    "xyz = func([\"Apple\", \"School\"])  \n",
    "\n",
    "print(next(xyz)) \n"
   ]
  },
  {
   "cell_type": "code",
   "execution_count": 1,
   "id": "fdc99d2c-b72e-487d-ab94-84cfae2b8ea1",
   "metadata": {},
   "outputs": [
    {
     "name": "stdout",
     "output_type": "stream",
     "text": [
      "Sarthak\n"
     ]
    }
   ],
   "source": [
    "def func(name):  \n",
    "    for i in name:\n",
    "        if i == \"Sarthak\":  \n",
    "            yield i  \n",
    "\n",
    "xyz = func([\"Sarthak\", \"Omkar\",\"alok\"]) \n",
    "\n",
    "print(next(xyz)) \n"
   ]
  },
  {
   "cell_type": "code",
   "execution_count": 8,
   "id": "3ec72861-d9eb-450c-98ed-69b53158093e",
   "metadata": {},
   "outputs": [
    {
     "name": "stdout",
     "output_type": "stream",
     "text": [
      "0\n",
      "100\n"
     ]
    }
   ],
   "source": [
    "def func():  \n",
    "    for i in (0,10):  \n",
    "            yield i*i \n",
    "\n",
    "xyz = func()\n",
    "\n",
    "print(next(xyz)) \n",
    "print(next(xyz)) \n",
    "\n",
    "\n",
    "\n"
   ]
  },
  {
   "cell_type": "code",
   "execution_count": 9,
   "id": "1f0e8193-e917-443a-8c0a-7e3fe5caec5d",
   "metadata": {},
   "outputs": [
    {
     "name": "stdout",
     "output_type": "stream",
     "text": [
      "0\n",
      "1\n"
     ]
    }
   ],
   "source": [
    "def func():  \n",
    "    for i in range(11): \n",
    "        yield i * i \n",
    "\n",
    "xyz = func()\n",
    "\n",
    "print(next(xyz))  \n",
    "print(next(xyz))  \n"
   ]
  },
  {
   "cell_type": "code",
   "execution_count": 17,
   "id": "39b33ebc-4a2d-4e60-bed2-baaee3d64575",
   "metadata": {},
   "outputs": [
    {
     "name": "stdout",
     "output_type": "stream",
     "text": [
      "Sarthak\n",
      "3 left only \n"
     ]
    }
   ],
   "source": [
    "def func(name):  \n",
    "    for i in name:\n",
    "        if i == \"Sarthak\":  \n",
    "            yield i  \n",
    "\n",
    "xyz = func([\"Sarthak\", \"Omkar\", \"Alok\"])  \n",
    "\n",
    "try:\n",
    "    print(next(xyz)) \n",
    "    print(next(xyz)) \n",
    "    print(next(xyz))  \n",
    "except Stop:\n",
    "    print(\"3 left only \")\n"
   ]
  },
  {
   "cell_type": "code",
   "execution_count": null,
   "id": "18564ccd-3330-4b0a-9099-cdd36dd1fbe3",
   "metadata": {},
   "outputs": [],
   "source": [
    "try:\n",
    "    a = 10\n",
    "    b = 0  \n",
    "    result = a / b  \n",
    "    print(result)  \n",
    "except ZeroDivisionError:\n",
    "    print(\"Error: Division by zero is not allowed!\")\n"
   ]
  },
  {
   "cell_type": "code",
   "execution_count": null,
   "id": "e355d613-5537-4e6f-91c6-3d781c3659a9",
   "metadata": {},
   "outputs": [],
   "source": [
    "def func(name):  \n",
    "    for i in name:\n",
    "        if i == \"Sarthak\":  \n",
    "            yield i  \n",
    "\n",
    "xyz = func([\"Sarthak\", \"Omkar\", \"Alok\"])  \n",
    "\n",
    "try:\n",
    "    print(next(xyz)) \n",
    "    print(next(xyz)) \n",
    "    print(next(xyz))  \n",
    "except StopIteration:\n",
    "    print(\"3 left only!\")\n"
   ]
  },
  {
   "cell_type": "code",
   "execution_count": 21,
   "id": "eb651fc7-81ed-45de-9baf-ea0eabdc2765",
   "metadata": {},
   "outputs": [
    {
     "name": "stdout",
     "output_type": "stream",
     "text": [
      "Sarthak\n",
      "Omkar\n"
     ]
    }
   ],
   "source": [
    "def func(name):  \n",
    "    for i in name:\n",
    "        if i in [\"Sarthak\", \"Omkar\"]: \n",
    "            yield i  \n",
    "\n",
    "xyz = func([\"Sarthak\", \"Omkar\", \"Alok\"])  \n",
    "\n",
    "try:\n",
    "    print(next(xyz)) \n",
    "    print(next(xyz))    \n",
    "except StopIteration:\n",
    "    print(\"No more names left!\")\n"
   ]
  },
  {
   "cell_type": "code",
   "execution_count": 28,
   "id": "7bbd131e-405f-4c22-83bb-a60dc0a77199",
   "metadata": {},
   "outputs": [
    {
     "name": "stdout",
     "output_type": "stream",
     "text": [
      "4\n"
     ]
    }
   ],
   "source": [
    "def func():  \n",
    "    for i in range(1, 6):  # Iterate from 1 to 5\n",
    "        if i == 2:\n",
    "            yield i * i \n",
    "xyz = func()  \n",
    "\n",
    "try:\n",
    "    print(next(xyz)) \n",
    "    \n",
    "except StopIteration:\n",
    "    print(\"No more values left!\")\n",
    "def remove_vowels(word):\n",
    "    for letter in word:\n",
    "        if letter not in \"AEIOUaeiou\":  # Skip vowels\n",
    "            yield letter  # Yield non-vowel characters\n",
    "\n",
    "# Convert generator output to a string\n",
    "print(\"\".join(remove_vowels(\"NIKHIL\")))  # Output: NKHL\n"
   ]
  },
  {
   "cell_type": "code",
   "execution_count": null,
   "id": "a1394959-2853-4c9b-a4f6-de7667ce27fa",
   "metadata": {},
   "outputs": [],
   "source": [
    "take string adn remove vowels from NIKHIL "
   ]
  },
  {
   "cell_type": "code",
   "execution_count": 29,
   "id": "32caef05-fa10-4bdf-911d-09b3f021bd20",
   "metadata": {},
   "outputs": [
    {
     "name": "stdout",
     "output_type": "stream",
     "text": [
      "NKHL\n"
     ]
    }
   ],
   "source": [
    "def remove_vowels(word):\n",
    "    for L in word:\n",
    "        if L  not in \"AEIOUaeiou\": \n",
    "            yield L\n",
    "\n",
    "print(\"\".join(remove_vowels(\"NIKHIL\")))  # Output: NKHL\n"
   ]
  },
  {
   "cell_type": "code",
   "execution_count": 36,
   "id": "c383f86f-4bbd-4165-9eec-2b88ee26bc23",
   "metadata": {},
   "outputs": [
    {
     "name": "stdin",
     "output_type": "stream",
     "text": [
      "Enter a word:  alok\n"
     ]
    },
    {
     "name": "stdout",
     "output_type": "stream",
     "text": [
      "<generator object remove_vowels at 0x000001F3C8FD8380>\n",
      "<generator object remove_vowels at 0x000001F3C8FD8380>\n"
     ]
    }
   ],
   "source": [
    "def remove_vowels(word):\n",
    "    for letter in word:\n",
    "        if letter not in \"AEIOUaeiou\": \n",
    "            yield letter  \n",
    "txt = (\"Enter a word: \")\n",
    "op= remove vowels (txt)\n",
    "  print(removed(txt))\n"
   ]
  },
  {
   "cell_type": "code",
   "execution_count": 47,
   "id": "2f55573c-5674-4488-8929-e19b05719c1a",
   "metadata": {},
   "outputs": [
    {
     "name": "stdin",
     "output_type": "stream",
     "text": [
      "Enter a word alok\n"
     ]
    },
    {
     "name": "stdout",
     "output_type": "stream",
     "text": [
      "lk"
     ]
    }
   ],
   "source": [
    "def remove_vowels(word):\n",
    "     for letter in word:\n",
    "        if letter not in \"AEIOUaeiou\": \n",
    "            yield letter  \n",
    "txt = input(\"Enter a word\")\n",
    "for char in remove_vowels(txt):\n",
    "    print(char, end=\"\") "
   ]
  },
  {
   "cell_type": "code",
   "execution_count": 48,
   "id": "739204ec-65f0-45cb-84fa-26affdb96c59",
   "metadata": {},
   "outputs": [
    {
     "name": "stdout",
     "output_type": "stream",
     "text": [
      "NKHL\n"
     ]
    }
   ],
   "source": [
    "def remove_vowels(word):\n",
    "    for letter in word:\n",
    "        if letter not in \"AEIOUaeiou\":  \n",
    "            yield letter  \n",
    "\n",
    "txt = \"NIKHIL\"\n",
    "\n",
    "output = ''.join(remove_vowels(txt))\n",
    "\n",
    "\n",
    "print(output)\n",
    "\n"
   ]
  },
  {
   "cell_type": "code",
   "execution_count": 49,
   "id": "54bdbcf9-5ccb-43b3-b928-11e9b7eb98f3",
   "metadata": {},
   "outputs": [
    {
     "name": "stdin",
     "output_type": "stream",
     "text": [
      "Enter a word:  alok\n"
     ]
    },
    {
     "name": "stdout",
     "output_type": "stream",
     "text": [
      "lk\n"
     ]
    }
   ],
   "source": [
    "def remove_vowels(word):\n",
    "    for letter in word:\n",
    "        if letter not in \"AEIOUaeiou\":  \n",
    "            yield letter  \n",
    "\n",
    "input_string = input(\"Enter a word: \")  \n",
    "\n",
    "output_string = ''.join(remove_vowels(input_string))\n",
    "\n",
    "print(output_string)\n"
   ]
  },
  {
   "cell_type": "code",
   "execution_count": null,
   "id": "1dadad46-4a25-4be5-8782-092d6516dfb5",
   "metadata": {},
   "outputs": [],
   "source": [
    "def check_vowels(s) \n",
    "vowels = (aeiouAEIOU)\n",
    "for char in s\n",
    "if char not in vowels \n",
    "   yield \n",
    "gen checkvowels (\"sarthak\")\n",
    "print next gen \n",
    "print next gen \n"
   ]
  },
  {
   "cell_type": "code",
   "execution_count": 55,
   "id": "9a57a7eb-3ea6-46dc-b559-fb8f53598fc2",
   "metadata": {},
   "outputs": [
    {
     "name": "stdout",
     "output_type": "stream",
     "text": [
      "s\n",
      "r\n",
      "t\n",
      "h\n",
      "k\n",
      "Nothing left\n"
     ]
    }
   ],
   "source": [
    "def check_vowels(s):\n",
    "    vowels = \"aeiouAEIOU\"  \n",
    "    for char in s:  \n",
    "        if char not in vowels:  \n",
    "            yield char  \n",
    "\n",
    "\n",
    "gen = check_vowels(\"sarthak\")\n",
    "\n",
    "try:\n",
    "    print(next(gen)) \n",
    "    print(next(gen)) \n",
    "    print(next(gen)) \n",
    "    print(next(gen)) \n",
    "    print(next(gen)) \n",
    "    print(next(gen)) \n",
    "except StopIteration:\n",
    "    print(\"Nothing left\")\n"
   ]
  },
  {
   "cell_type": "code",
   "execution_count": 59,
   "id": "c2046c70-681d-4928-a765-290a86c69283",
   "metadata": {},
   "outputs": [
    {
     "name": "stdout",
     "output_type": "stream",
     "text": [
      "srthk\n"
     ]
    }
   ],
   "source": [
    "def check_vowels(s):\n",
    "    vowels = \"aeiouAEIOU\"\n",
    "    for char in s:\n",
    "        if char not in vowels:\n",
    "            yield char  \n",
    "\n",
    "gen = check_vowels(\"sarthak\")\n",
    "output = ''.join(gen) \n",
    "\n",
    "print(output)  \n"
   ]
  },
  {
   "cell_type": "code",
   "execution_count": 60,
   "id": "3dca777f-167b-43b9-b3d6-8bdc769a7d8e",
   "metadata": {},
   "outputs": [
    {
     "name": "stdout",
     "output_type": "stream",
     "text": [
      "2\n",
      "4\n",
      "6\n",
      "8\n",
      "10\n",
      "12\n",
      "14\n",
      "16\n",
      "18\n",
      "20\n"
     ]
    }
   ],
   "source": [
    "def table_of_two():\n",
    "    for i in range(1, 11):  # Loop from 1 to 10\n",
    "        yield 2 * i  # Yield the result of 2 multiplied by i\n",
    "\n",
    "gen = table_of_two()\n",
    "\n",
    "for value in gen:\n",
    "    print(value)\n"
   ]
  },
  {
   "cell_type": "code",
   "execution_count": 63,
   "id": "eb6d885a-98c5-4b4b-9db9-7da263432cf8",
   "metadata": {},
   "outputs": [
    {
     "name": "stdout",
     "output_type": "stream",
     "text": [
      "Table of 2:\n",
      "2\n",
      "4\n",
      "6\n",
      "8\n",
      "10\n",
      "12\n",
      "14\n",
      "16\n",
      "18\n",
      "20\n"
     ]
    }
   ],
   "source": [
    "def table():\n",
    "    for i in range(1, 11):  \n",
    "        yield 2 * i  \n",
    "\n",
    "print(\"Table of 2:\")\n",
    "for A in table():\n",
    "    print(A)\n"
   ]
  },
  {
   "cell_type": "code",
   "execution_count": 68,
   "id": "a23955d1-46fe-42b8-ad37-2c20fdcdfe13",
   "metadata": {},
   "outputs": [
    {
     "name": "stdout",
     "output_type": "stream",
     "text": [
      "table of 2:\n",
      "2\n",
      "4\n",
      "6\n",
      "8\n",
      "10\n",
      "12\n",
      "14\n",
      "16\n",
      "18\n",
      "20\n"
     ]
    }
   ],
   "source": [
    "def table():\n",
    "    for i in range(1,11):\n",
    "        yield 2 * i \n",
    "print(\"table of 2:\")\n",
    "for V in table():\n",
    "    print(V)"
   ]
  },
  {
   "cell_type": "code",
   "execution_count": 69,
   "id": "9780481d-b13c-4525-9b55-41c1181ca0a2",
   "metadata": {},
   "outputs": [
    {
     "name": "stdout",
     "output_type": "stream",
     "text": [
      "Befor Hello, World!\n",
      "hello, World!\n",
      "Befor Hello, World!\n"
     ]
    }
   ],
   "source": [
    "# a simple decorator\n",
    "def hello_decorator(func):\n",
    "    def wrapper():\n",
    "        print(\"Befor Hello, World!\")  \n",
    "        func()\n",
    "        print(\"Befor Hello, World!\")  \n",
    "    return wrapper\n",
    "\n",
    "@hello_decorator\n",
    "def func():\n",
    "   print(\"hello, World!\")\n",
    "\n",
    "func()\n"
   ]
  },
  {
   "cell_type": "markdown",
   "id": "6ad67373-0164-4e8a-a4ba-e883d4fc0840",
   "metadata": {},
   "source": [
    "# Question - addition of two numbber \n",
    "# Question - small to cap using decorator "
   ]
  }
 ],
 "metadata": {
  "kernelspec": {
   "display_name": "Python 3 (ipykernel)",
   "language": "python",
   "name": "python3"
  },
  "language_info": {
   "codemirror_mode": {
    "name": "ipython",
    "version": 3
   },
   "file_extension": ".py",
   "mimetype": "text/x-python",
   "name": "python",
   "nbconvert_exporter": "python",
   "pygments_lexer": "ipython3",
   "version": "3.13.0"
  }
 },
 "nbformat": 4,
 "nbformat_minor": 5
}
