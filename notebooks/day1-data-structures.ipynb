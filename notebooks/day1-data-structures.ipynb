{
 "cells": [
  {
   "cell_type": "code",
   "execution_count": 4,
   "id": "f62ea19f-4dee-4519-a0a3-aeabb25d7765",
   "metadata": {},
   "outputs": [
    {
     "name": "stdout",
     "output_type": "stream",
     "text": [
      "[0, 3, 4, 5, 6]\n"
     ]
    }
   ],
   "source": [
    "num_list = [1, 2, 3, 4, 5]  # List with numbers\n",
    "\n",
    "num_list.append(6)  # Append 6 at the end\n",
    "num_list.insert(0, 0)  # Insert 0 at the beginning\n",
    "num_list.remove(2)\n",
    "\n",
    "\n",
    "print(num_list)  # Print the updated list\n"
   ]
  },
  {
   "cell_type": "code",
   "execution_count": 5,
   "id": "b045c570-d344-4678-a120-9c5a288fc94c",
   "metadata": {},
   "outputs": [
    {
     "data": {
      "text/plain": [
       "3"
      ]
     },
     "execution_count": 5,
     "metadata": {},
     "output_type": "execute_result"
    }
   ],
   "source": [
    "num_list.pop(1)\n"
   ]
  },
  {
   "cell_type": "code",
   "execution_count": 7,
   "id": "dec83273-3035-4b70-831f-c452acfc0b4c",
   "metadata": {},
   "outputs": [
    {
     "data": {
      "text/plain": [
       "6"
      ]
     },
     "execution_count": 7,
     "metadata": {},
     "output_type": "execute_result"
    }
   ],
   "source": [
    "num_list.pop(3)"
   ]
  },
  {
   "cell_type": "code",
   "execution_count": 9,
   "id": "95a10a87-5922-4c0a-afcb-801143d03404",
   "metadata": {},
   "outputs": [],
   "source": [
    "num_list.clear()\n"
   ]
  },
  {
   "cell_type": "code",
   "execution_count": 10,
   "id": "eb291e4e-bf20-4568-bb38-dcf42a7d8332",
   "metadata": {},
   "outputs": [
    {
     "name": "stdout",
     "output_type": "stream",
     "text": [
      "[]\n"
     ]
    }
   ],
   "source": [
    "a = [1, 2, 3, 4, 5] \n",
    "a.clear()  \n",
    "print(a)  \n"
   ]
  },
  {
   "cell_type": "code",
   "execution_count": 15,
   "id": "d54d39f4-a2ae-4f09-87ea-00ca68aad091",
   "metadata": {},
   "outputs": [
    {
     "name": "stdout",
     "output_type": "stream",
     "text": [
      "2\n"
     ]
    }
   ],
   "source": [
    "a = [1, 2, 3, 4, 5] \n",
    "b=a.index(3)  \n",
    "print(b)  \n"
   ]
  },
  {
   "cell_type": "code",
   "execution_count": 14,
   "id": "36ba26dc-2032-4db8-ac33-ae5504894cd4",
   "metadata": {},
   "outputs": [
    {
     "name": "stdout",
     "output_type": "stream",
     "text": [
      "4\n"
     ]
    }
   ],
   "source": [
    "a = [1, 2, 3, 1, 1, 1, 4, 5] \n",
    "b=a.count(1)  \n",
    "print(b)  \n"
   ]
  },
  {
   "cell_type": "code",
   "execution_count": 17,
   "id": "59ed91fe-5b06-47cc-a7b3-d043538862fd",
   "metadata": {},
   "outputs": [
    {
     "name": "stdout",
     "output_type": "stream",
     "text": [
      "[1, 2, 3, 4, 5]\n"
     ]
    }
   ],
   "source": [
    "a = [1, 2, 3, 4, 5] \n",
    "b=a.copy()  \n",
    "print(b)  \n"
   ]
  },
  {
   "cell_type": "code",
   "execution_count": null,
   "id": "03934de4-134b-4123-a5de-2353f491b8b7",
   "metadata": {},
   "outputs": [],
   "source": [
    "a = [1,2,3,4,5,6,7,8,9,0]\n",
    "a.sort()\n",
    "print(a)\n",
    "\n",
    "reverse \n",
    "append \n",
    "extend \n",
    "len \n",
    "insert \n",
    "remove\n",
    "pop\n",
    "clear\n",
    "index\n",
    "count\n",
    "copy "
   ]
  },
  {
   "cell_type": "code",
   "execution_count": 20,
   "id": "06ff3ab6-0ec6-4e05-9e11-1de78068e1a5",
   "metadata": {},
   "outputs": [
    {
     "name": "stdout",
     "output_type": "stream",
     "text": [
      "Sorted: [0, 1, 2, 3, 4, 5, 6, 7, 8, 9]\n",
      "Reversed: [9, 8, 7, 6, 5, 4, 3, 2, 1, 0]\n",
      "After append: [9, 8, 7, 6, 5, 4, 3, 2, 1, 0, 10]\n",
      "After extend: [9, 8, 7, 6, 5, 4, 3, 2, 1, 0, 10, 11, 12, 13]\n",
      "Length: 14\n",
      "After insert: [9, 8, 100, 7, 6, 5, 4, 3, 2, 1, 0, 10, 11, 12, 13]\n",
      "After remove: [9, 8, 7, 6, 5, 4, 3, 2, 1, 0, 10, 11, 12, 13]\n",
      "After pop: [9, 8, 7, 6, 5, 4, 3, 2, 1, 0, 10, 11, 12]\n",
      "Popped value: 13\n",
      "After clear: []\n",
      "Index of 5: 4\n",
      "Count of 3: 1\n",
      "Copied list: [1, 2, 3, 4, 5, 6, 7, 8, 9, 0]\n"
     ]
    }
   ],
   "source": [
    "a = [1, 2, 3, 4, 5, 6, 7, 8, 9, 0]  \n",
    "\n",
    "a.sort()\n",
    "print(\"Sorted:\", a)\n",
    "\n",
    "a.reverse()\n",
    "print(\"Reversed:\", a)\n",
    "\n",
    "a.append(10)\n",
    "print(\"After append:\", a)\n",
    "c=[11, 12, 13]\n",
    "a.extend(c)\n",
    "print(\"After extend:\", a)\n",
    "\n",
    "print(\"Length:\", len(a))\n",
    "\n",
    "a.insert(2, 100)\n",
    "print(\"After insert:\", a)\n",
    "\n",
    "a.remove(100)\n",
    "print(\"After remove:\", a)\n",
    "\n",
    "popped = a.pop()\n",
    "print(\"After pop:\", a)\n",
    "print(\"Popped value:\", popped)\n",
    "\n",
    "a.clear()\n",
    "print(\"After clear:\", a)\n",
    "\n",
    "a = [1, 2, 3, 4, 5, 6, 7, 8, 9, 0]\n",
    "index_of_5 = a.index(5)\n",
    "print(\"Index of 5:\", index_of_5)\n",
    "\n",
    "count_of_3 = a.count(3)\n",
    "print(\"Count of 3:\", count_of_3)\n",
    "\n",
    "b = a.copy()\n",
    "print(\"Copied list:\", b)\n"
   ]
  },
  {
   "cell_type": "code",
   "execution_count": 21,
   "id": "e3a7ae9b-d580-4259-a7d6-cedd04721dd6",
   "metadata": {},
   "outputs": [
    {
     "name": "stdout",
     "output_type": "stream",
     "text": [
      "(1, 2, 3, 4, 5)\n"
     ]
    }
   ],
   "source": [
    "t = (1, 2, 3, 4, 5)\n",
    "print(t)\n"
   ]
  },
  {
   "cell_type": "markdown",
   "id": "ad3a87cb-e41c-4106-a5b9-84ce0819f10d",
   "metadata": {},
   "source": [
    "### **Tuple**"
   ]
  },
  {
   "cell_type": "code",
   "execution_count": 24,
   "id": "85b18a1b-a02b-4dc1-8e71-1f0e3dc1c048",
   "metadata": {},
   "outputs": [
    {
     "name": "stdout",
     "output_type": "stream",
     "text": [
      "5\n",
      "count of three: 1\n",
      "Inedx of 5: 4\n"
     ]
    }
   ],
   "source": [
    "t = (1, 2, 3, 4, 5)\n",
    "print(len(t))\n",
    "\n",
    "b=t.count(3)\n",
    "print(\"count of three:\",b)\n",
    "\n",
    "index = t.index(5)\n",
    "print(\"Inedx of 5:\",index)"
   ]
  },
  {
   "cell_type": "code",
   "execution_count": 27,
   "id": "b0d45336-3480-49f0-9804-e28fe30b13f9",
   "metadata": {},
   "outputs": [
    {
     "name": "stdout",
     "output_type": "stream",
     "text": [
      "Index of 5: 4\n"
     ]
    }
   ],
   "source": [
    "\n",
    "a = [1, 2, 3, 4, 5, 6, 7, 8, 9, 0]\n",
    "index_of_5 = a.index(5)\n",
    "print(\"Index of 5:\", index_of_5)"
   ]
  },
  {
   "cell_type": "code",
   "execution_count": 28,
   "id": "7e9a0104-b692-436e-a001-5e1187194ac6",
   "metadata": {},
   "outputs": [
    {
     "name": "stdout",
     "output_type": "stream",
     "text": [
      "<class 'set'>\n"
     ]
    }
   ],
   "source": [
    "empty_set = set()\n",
    "print(type(empty_set))  "
   ]
  },
  {
   "cell_type": "code",
   "execution_count": 30,
   "id": "0d35d6a6-38e4-49a1-b715-142e139e8f82",
   "metadata": {},
   "outputs": [
    {
     "name": "stdout",
     "output_type": "stream",
     "text": [
      "6\n",
      "Sorted set: [1, 2, 3, 4, 5, 6]\n"
     ]
    }
   ],
   "source": [
    "s = {1,2,3,6,4,5}\n",
    "print(len(s))\n",
    "\n",
    "b = sorted(s)\n",
    "print(\"Sorted set:\",b)\n"
   ]
  },
  {
   "cell_type": "markdown",
   "id": "a7e0a4d1-64a3-43c5-a562-eddf2d2652c9",
   "metadata": {},
   "source": [
    "### List to set"
   ]
  },
  {
   "cell_type": "code",
   "execution_count": 31,
   "id": "74d335b9-75d7-46b4-838d-8ea75bc3a024",
   "metadata": {},
   "outputs": [
    {
     "name": "stdout",
     "output_type": "stream",
     "text": [
      "{1, 2, 3, 4, 5}\n"
     ]
    }
   ],
   "source": [
    "l = [1, 2, 3, 4, 5, 2, 3]\n",
    "s = set(l)\n",
    "print(s)\n"
   ]
  },
  {
   "cell_type": "markdown",
   "id": "13471797-1a53-4b3b-9277-e716441cd251",
   "metadata": {},
   "source": [
    "### Sets"
   ]
  },
  {
   "cell_type": "code",
   "execution_count": 36,
   "id": "5694209a-73de-4af0-ac31-0f606aba3c60",
   "metadata": {},
   "outputs": [
    {
     "name": "stdout",
     "output_type": "stream",
     "text": [
      "added 10: {1, 2, 3, 4, 5, 6, 10}\n",
      "removed 10: {1, 2, 3, 4, 5, 6}\n"
     ]
    }
   ],
   "source": [
    "s = {1,2,3,6,4,5}\n",
    "s.add(10)\n",
    "print(\"added 10:\",s)\n",
    "\n",
    "s.remove(10)\n",
    "print(\"removed 10:\",s)"
   ]
  },
  {
   "cell_type": "code",
   "execution_count": null,
   "id": "55b4da62-e0cb-4dc1-a7f2-604869c8d73c",
   "metadata": {},
   "outputs": [],
   "source": [
    "s = {1,2,3,6,4,5}\n",
    "s.discard"
   ]
  },
  {
   "cell_type": "code",
   "execution_count": 39,
   "id": "8306c848-59ce-4540-aae0-02cc202ff12a",
   "metadata": {},
   "outputs": [
    {
     "name": "stdout",
     "output_type": "stream",
     "text": [
      "Popped value: 1\n"
     ]
    }
   ],
   "source": [
    "s = {1,2,3,6,4,5}\n",
    "p=s.pop()\n",
    "print(\"Popped value:\", p)\n"
   ]
  },
  {
   "cell_type": "code",
   "execution_count": 41,
   "id": "2b8a29b0-1ea1-43b9-8e51-0c737fc0918c",
   "metadata": {},
   "outputs": [
    {
     "name": "stdout",
     "output_type": "stream",
     "text": [
      "Popped: 50\n",
      "{20, 40, 10, 30}\n"
     ]
    }
   ],
   "source": [
    "s = {10, 20, 30, 40, 50}\n",
    "pop = s.pop()\n",
    "print(\"Popped:\", pop)\n",
    "print(s)\n"
   ]
  },
  {
   "cell_type": "code",
   "execution_count": 42,
   "id": "464edb90-3aa8-4a8f-a587-64c54f07b9ed",
   "metadata": {},
   "outputs": [
    {
     "name": "stdout",
     "output_type": "stream",
     "text": [
      "Popped: 50\n",
      "{20, 40, 10, 30}\n"
     ]
    }
   ],
   "source": [
    "s = {10, 20, 30, 40, 50}\n",
    "pop = s.pop()\n",
    "print(\"Popped:\", pop)\n",
    "print(s)\n"
   ]
  },
  {
   "cell_type": "code",
   "execution_count": 43,
   "id": "7735963a-f22c-4a28-91c2-486be0111904",
   "metadata": {},
   "outputs": [
    {
     "name": "stdout",
     "output_type": "stream",
     "text": [
      "Popped: 50\n",
      "{20, 40, 10, 30}\n"
     ]
    }
   ],
   "source": [
    "s = {10, 20, 30, 40, 50}\n",
    "pop = s.pop()\n",
    "print(\"Popped:\", pop)\n",
    "print(s)\n"
   ]
  },
  {
   "cell_type": "code",
   "execution_count": 45,
   "id": "b877d0f3-a9f7-404a-8d26-9831da09bc2c",
   "metadata": {},
   "outputs": [
    {
     "name": "stdout",
     "output_type": "stream",
     "text": [
      "{1, 2, 3, 4, 5, 6}\n"
     ]
    }
   ],
   "source": [
    "set1 = {1, 2, 3, 4}\n",
    "set2 = {3, 4, 5, 6}\n",
    "print(set1.union(set2))\n"
   ]
  },
  {
   "cell_type": "code",
   "execution_count": 48,
   "id": "c47aea58-a176-45df-bb1d-1e1c7e546511",
   "metadata": {},
   "outputs": [
    {
     "name": "stdout",
     "output_type": "stream",
     "text": [
      "{1, 2, 3, 4, 5, 6, 7, 8}\n"
     ]
    }
   ],
   "source": [
    "set1 = {1, 2, 3, 4, 5}\n",
    "set1.update({6, 7, 8})\n",
    "print(set1)\n"
   ]
  },
  {
   "cell_type": "code",
   "execution_count": null,
   "id": "079efe60-c8e3-4221-b34e-c9e0fb105501",
   "metadata": {},
   "outputs": [],
   "source": [
    "set1 = {1, 2, 3, 4, 5}\n",
    "set1.update({6, 7, 8})\n",
    "print(set1)\n"
   ]
  },
  {
   "cell_type": "code",
   "execution_count": 50,
   "id": "6a7f5a1b-4422-4a68-afec-bc22819192f0",
   "metadata": {},
   "outputs": [
    {
     "name": "stdout",
     "output_type": "stream",
     "text": [
      "{3, 4, 5}\n"
     ]
    }
   ],
   "source": [
    "set1 = {1, 2, 3, 4, 5}\n",
    "set2 = {3, 4, 5, 6, 7}\n",
    "\n",
    "print(set1.intersection(set2) )\n"
   ]
  },
  {
   "cell_type": "code",
   "execution_count": 51,
   "id": "a11591f1-4952-4833-8b6d-d158b1ca6e74",
   "metadata": {},
   "outputs": [
    {
     "name": "stdout",
     "output_type": "stream",
     "text": [
      "{1, 2}\n"
     ]
    }
   ],
   "source": [
    "set1 = {1, 2, 3, 4, 5}\n",
    "set2 = {3, 4, 5, 6, 7}\n",
    "\n",
    "print(set1.difference(set2) )\n"
   ]
  },
  {
   "cell_type": "code",
   "execution_count": 52,
   "id": "02680c9c-06b2-4d90-b02f-28d54f902612",
   "metadata": {},
   "outputs": [
    {
     "name": "stdout",
     "output_type": "stream",
     "text": [
      "[1, 2, 3, 4, 5]\n",
      "{1, 2, 3, 4, 5, 6}\n",
      "{1, 2, 3, 4, 5}\n",
      "{1, 2, 3, 4, 5}\n",
      "{1, 2, 3, 4, 5, 6, 7}\n",
      "{3, 4, 5}\n",
      "{1, 2}\n"
     ]
    }
   ],
   "source": [
    "set1 = {5, 2, 3, 1, 4}\n",
    "set2 = {3, 4, 5, 6, 7}\n",
    "\n",
    "sorted_set = sorted(set1)\n",
    "print(sorted_set)\n",
    "\n",
    "set1.add(6)\n",
    "print(set1)\n",
    "\n",
    "set1.remove(6)\n",
    "print(set1)\n",
    "\n",
    "set1.discard(10)\n",
    "print(set1)\n",
    "\n",
    "print(set1.union(set2))\n",
    "print(set1.intersection(set2) )\n",
    "print(set1.difference(set2) )\n",
    "\n",
    "\n"
   ]
  },
  {
   "cell_type": "markdown",
   "id": "a8e77a82-628c-498e-b952-027271baaab6",
   "metadata": {},
   "source": [
    "### Dictionary in python"
   ]
  },
  {
   "cell_type": "code",
   "execution_count": 59,
   "id": "dff1dc16-0c67-4fc7-92ff-4513ebbbe6dc",
   "metadata": {},
   "outputs": [
    {
     "name": "stdout",
     "output_type": "stream",
     "text": [
      "My name is: Alok\n",
      "My name is: Alok\n",
      "My name: Loka\n"
     ]
    }
   ],
   "source": [
    "\n",
    "my_name = {\n",
    "    'name': 'Alok',\n",
    "    'zeal': 'IT',\n",
    "    'address': 'Pune'\n",
    "}\n",
    "\n",
    "print('My name is:', my_name['name'])\n",
    "print('My name is:', my_name.get('name'))\n",
    "\n",
    "my_name.update({'name': 'Loka'})\n",
    "\n",
    "print('My name is:', my_name.get('name'))\n",
    "\n",
    "\n"
   ]
  },
  {
   "cell_type": "code",
   "execution_count": 61,
   "id": "8e2e2350-da90-4959-8fec-90e184cead45",
   "metadata": {},
   "outputs": [
    {
     "name": "stdout",
     "output_type": "stream",
     "text": [
      "My name is: Alok\n",
      "My name is: Alok\n",
      "My name is: Loka\n",
      "{'name': 'Loka', 'zeal': 'IT', 'address': 'Pune', 'email': 'alok@mail.com'}\n"
     ]
    }
   ],
   "source": [
    "\n",
    "my_name = {\n",
    "    'name': 'Alok',\n",
    "    'zeal': 'IT',\n",
    "    'address': 'Pune'\n",
    "}\n",
    "\n",
    "print('My name is:', my_name['name'])\n",
    "print('My name is:', my_name.get('name'))\n",
    "\n",
    "my_name.update({'name': 'Loka'})\n",
    "\n",
    "print('My name is:', my_name.get('name'))\n",
    "\n",
    "\n",
    "my_name.update({'email': 'alok@mail.com'})\n",
    "print(my_name)"
   ]
  },
  {
   "cell_type": "code",
   "execution_count": null,
   "id": "c58a2124-2261-49a7-9f83-e72545273baf",
   "metadata": {},
   "outputs": [],
   "source": []
  }
 ],
 "metadata": {
  "kernelspec": {
   "display_name": "Python 3 (ipykernel)",
   "language": "python",
   "name": "python3"
  },
  "language_info": {
   "codemirror_mode": {
    "name": "ipython",
    "version": 3
   },
   "file_extension": ".py",
   "mimetype": "text/x-python",
   "name": "python",
   "nbconvert_exporter": "python",
   "pygments_lexer": "ipython3",
   "version": "3.13.0"
  }
 },
 "nbformat": 4,
 "nbformat_minor": 5
}
